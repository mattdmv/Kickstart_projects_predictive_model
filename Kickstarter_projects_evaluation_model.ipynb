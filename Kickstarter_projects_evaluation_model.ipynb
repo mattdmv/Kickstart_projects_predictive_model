{
 "cells": [
  {
   "cell_type": "markdown",
   "metadata": {},
   "source": [
    "## Introduction"
   ]
  },
  {
   "cell_type": "markdown",
   "metadata": {},
   "source": [
    "Kickstarter is a funding platform directed toward helping creative projects get off the ground. It's entirely driven by crowdfunding, so donations from the general public fuel these dynamic new ideas.\n",
    "\n",
    "How does Kickstarter work?\n",
    "\n",
    "Kickstarter is driven by creators and backers. Creators present creative project ideas, and backers fund them. Creators set up a page to display their project's details and prototypes using text, video, and photos. Project creators choose a deadline and a minimum funding goal and create reward levels for backers who pledge specific amounts. \n",
    "Once enough backers have funded the project, the creator can develop and produce their vision. If the goal is not met by the deadline, no funds are collected (all or nothing rule)."
   ]
  },
  {
   "cell_type": "markdown",
   "metadata": {},
   "source": [
    "### About this project \n",
    "\n",
    "Purpose of this project is to try to make a model to predict if the project would be successful or failure.\n",
    "\n",
    "Some interesting questions to answer along the analysis:\n",
    "- How many backers are needed on average to have successful Kickstarter campaign?\n",
    "- Are projects from certain countries more likely to be successful campaigns?\n",
    "- Which categories of projects are more likely to attract more backers? \n",
    "\n",
    "### Dataset information \n",
    "- Source: https://www.kaggle.com/kemical/kickstarter-projects\n",
    "\n",
    "- Content: dataset contains about 380,000 rows of data collected on crowdfunding projects hosted on Kickstarter.com. Columns are self explanatory.\n",
    "\n",
    "- Acknowledgements: Kickstarter Platform"
   ]
  },
  {
   "cell_type": "markdown",
   "metadata": {},
   "source": [
    "## Reading csv file into pandas dataframe and overview of the data"
   ]
  },
  {
   "cell_type": "code",
   "execution_count": 253,
   "metadata": {},
   "outputs": [
    {
     "data": {
      "text/html": [
       "<div>\n",
       "<style scoped>\n",
       "    .dataframe tbody tr th:only-of-type {\n",
       "        vertical-align: middle;\n",
       "    }\n",
       "\n",
       "    .dataframe tbody tr th {\n",
       "        vertical-align: top;\n",
       "    }\n",
       "\n",
       "    .dataframe thead th {\n",
       "        text-align: right;\n",
       "    }\n",
       "</style>\n",
       "<table border=\"1\" class=\"dataframe\">\n",
       "  <thead>\n",
       "    <tr style=\"text-align: right;\">\n",
       "      <th></th>\n",
       "      <th>ID</th>\n",
       "      <th>name</th>\n",
       "      <th>category</th>\n",
       "      <th>main_category</th>\n",
       "      <th>currency</th>\n",
       "      <th>deadline</th>\n",
       "      <th>goal</th>\n",
       "      <th>launched</th>\n",
       "      <th>pledged</th>\n",
       "      <th>state</th>\n",
       "      <th>backers</th>\n",
       "      <th>country</th>\n",
       "      <th>usd pledged</th>\n",
       "      <th>usd_pledged_real</th>\n",
       "      <th>usd_goal_real</th>\n",
       "    </tr>\n",
       "  </thead>\n",
       "  <tbody>\n",
       "    <tr>\n",
       "      <th>0</th>\n",
       "      <td>1000002330</td>\n",
       "      <td>The Songs of Adelaide &amp; Abullah</td>\n",
       "      <td>Poetry</td>\n",
       "      <td>Publishing</td>\n",
       "      <td>GBP</td>\n",
       "      <td>2015-10-09</td>\n",
       "      <td>1000.0</td>\n",
       "      <td>2015-08-11 12:12:28</td>\n",
       "      <td>0.0</td>\n",
       "      <td>failed</td>\n",
       "      <td>0</td>\n",
       "      <td>GB</td>\n",
       "      <td>0.0</td>\n",
       "      <td>0.0</td>\n",
       "      <td>1533.95</td>\n",
       "    </tr>\n",
       "    <tr>\n",
       "      <th>1</th>\n",
       "      <td>1000003930</td>\n",
       "      <td>Greeting From Earth: ZGAC Arts Capsule For ET</td>\n",
       "      <td>Narrative Film</td>\n",
       "      <td>Film &amp; Video</td>\n",
       "      <td>USD</td>\n",
       "      <td>2017-11-01</td>\n",
       "      <td>30000.0</td>\n",
       "      <td>2017-09-02 04:43:57</td>\n",
       "      <td>2421.0</td>\n",
       "      <td>failed</td>\n",
       "      <td>15</td>\n",
       "      <td>US</td>\n",
       "      <td>100.0</td>\n",
       "      <td>2421.0</td>\n",
       "      <td>30000.00</td>\n",
       "    </tr>\n",
       "    <tr>\n",
       "      <th>2</th>\n",
       "      <td>1000004038</td>\n",
       "      <td>Where is Hank?</td>\n",
       "      <td>Narrative Film</td>\n",
       "      <td>Film &amp; Video</td>\n",
       "      <td>USD</td>\n",
       "      <td>2013-02-26</td>\n",
       "      <td>45000.0</td>\n",
       "      <td>2013-01-12 00:20:50</td>\n",
       "      <td>220.0</td>\n",
       "      <td>failed</td>\n",
       "      <td>3</td>\n",
       "      <td>US</td>\n",
       "      <td>220.0</td>\n",
       "      <td>220.0</td>\n",
       "      <td>45000.00</td>\n",
       "    </tr>\n",
       "    <tr>\n",
       "      <th>3</th>\n",
       "      <td>1000007540</td>\n",
       "      <td>ToshiCapital Rekordz Needs Help to Complete Album</td>\n",
       "      <td>Music</td>\n",
       "      <td>Music</td>\n",
       "      <td>USD</td>\n",
       "      <td>2012-04-16</td>\n",
       "      <td>5000.0</td>\n",
       "      <td>2012-03-17 03:24:11</td>\n",
       "      <td>1.0</td>\n",
       "      <td>failed</td>\n",
       "      <td>1</td>\n",
       "      <td>US</td>\n",
       "      <td>1.0</td>\n",
       "      <td>1.0</td>\n",
       "      <td>5000.00</td>\n",
       "    </tr>\n",
       "    <tr>\n",
       "      <th>4</th>\n",
       "      <td>1000011046</td>\n",
       "      <td>Community Film Project: The Art of Neighborhoo...</td>\n",
       "      <td>Film &amp; Video</td>\n",
       "      <td>Film &amp; Video</td>\n",
       "      <td>USD</td>\n",
       "      <td>2015-08-29</td>\n",
       "      <td>19500.0</td>\n",
       "      <td>2015-07-04 08:35:03</td>\n",
       "      <td>1283.0</td>\n",
       "      <td>canceled</td>\n",
       "      <td>14</td>\n",
       "      <td>US</td>\n",
       "      <td>1283.0</td>\n",
       "      <td>1283.0</td>\n",
       "      <td>19500.00</td>\n",
       "    </tr>\n",
       "  </tbody>\n",
       "</table>\n",
       "</div>"
      ],
      "text/plain": [
       "           ID                                               name  \\\n",
       "0  1000002330                    The Songs of Adelaide & Abullah   \n",
       "1  1000003930      Greeting From Earth: ZGAC Arts Capsule For ET   \n",
       "2  1000004038                                     Where is Hank?   \n",
       "3  1000007540  ToshiCapital Rekordz Needs Help to Complete Album   \n",
       "4  1000011046  Community Film Project: The Art of Neighborhoo...   \n",
       "\n",
       "         category main_category currency    deadline     goal  \\\n",
       "0          Poetry    Publishing      GBP  2015-10-09   1000.0   \n",
       "1  Narrative Film  Film & Video      USD  2017-11-01  30000.0   \n",
       "2  Narrative Film  Film & Video      USD  2013-02-26  45000.0   \n",
       "3           Music         Music      USD  2012-04-16   5000.0   \n",
       "4    Film & Video  Film & Video      USD  2015-08-29  19500.0   \n",
       "\n",
       "              launched  pledged     state  backers country  usd pledged  \\\n",
       "0  2015-08-11 12:12:28      0.0    failed        0      GB          0.0   \n",
       "1  2017-09-02 04:43:57   2421.0    failed       15      US        100.0   \n",
       "2  2013-01-12 00:20:50    220.0    failed        3      US        220.0   \n",
       "3  2012-03-17 03:24:11      1.0    failed        1      US          1.0   \n",
       "4  2015-07-04 08:35:03   1283.0  canceled       14      US       1283.0   \n",
       "\n",
       "   usd_pledged_real  usd_goal_real  \n",
       "0               0.0        1533.95  \n",
       "1            2421.0       30000.00  \n",
       "2             220.0       45000.00  \n",
       "3               1.0        5000.00  \n",
       "4            1283.0       19500.00  "
      ]
     },
     "execution_count": 253,
     "metadata": {},
     "output_type": "execute_result"
    }
   ],
   "source": [
    "import pandas as pd\n",
    "\n",
    "data=pd.read_csv('ks-projects-201801.csv')\n",
    "data.head(5)"
   ]
  },
  {
   "cell_type": "code",
   "execution_count": 254,
   "metadata": {
    "scrolled": true
   },
   "outputs": [
    {
     "data": {
      "text/plain": [
       "(378661, 15)"
      ]
     },
     "execution_count": 254,
     "metadata": {},
     "output_type": "execute_result"
    }
   ],
   "source": [
    "data.shape"
   ]
  },
  {
   "cell_type": "markdown",
   "metadata": {},
   "source": [
    "Let's investigate columns and data types of these columns."
   ]
  },
  {
   "cell_type": "code",
   "execution_count": 255,
   "metadata": {
    "scrolled": true
   },
   "outputs": [
    {
     "name": "stdout",
     "output_type": "stream",
     "text": [
      "<class 'pandas.core.frame.DataFrame'>\n",
      "RangeIndex: 378661 entries, 0 to 378660\n",
      "Data columns (total 15 columns):\n",
      " #   Column            Non-Null Count   Dtype  \n",
      "---  ------            --------------   -----  \n",
      " 0   ID                378661 non-null  int64  \n",
      " 1   name              378657 non-null  object \n",
      " 2   category          378661 non-null  object \n",
      " 3   main_category     378661 non-null  object \n",
      " 4   currency          378661 non-null  object \n",
      " 5   deadline          378661 non-null  object \n",
      " 6   goal              378661 non-null  float64\n",
      " 7   launched          378661 non-null  object \n",
      " 8   pledged           378661 non-null  float64\n",
      " 9   state             378661 non-null  object \n",
      " 10  backers           378661 non-null  int64  \n",
      " 11  country           378661 non-null  object \n",
      " 12  usd pledged       374864 non-null  float64\n",
      " 13  usd_pledged_real  378661 non-null  float64\n",
      " 14  usd_goal_real     378661 non-null  float64\n",
      "dtypes: float64(5), int64(2), object(8)\n",
      "memory usage: 43.3+ MB\n"
     ]
    }
   ],
   "source": [
    "data.info()"
   ]
  },
  {
   "cell_type": "markdown",
   "metadata": {},
   "source": [
    "## Data cleaning"
   ]
  },
  {
   "cell_type": "code",
   "execution_count": 256,
   "metadata": {},
   "outputs": [
    {
     "data": {
      "text/plain": [
       "failed        197719\n",
       "successful    133956\n",
       "canceled       38779\n",
       "undefined       3562\n",
       "live            2799\n",
       "suspended       1846\n",
       "Name: state, dtype: int64"
      ]
     },
     "execution_count": 256,
     "metadata": {},
     "output_type": "execute_result"
    }
   ],
   "source": [
    "data['state'].value_counts()"
   ]
  },
  {
   "cell_type": "markdown",
   "metadata": {},
   "source": [
    "Project's state labeled other than 'failed' or 'successful' will be droped. As 'state' column is our target variable, we want only project labeled as 'failed' or 'successful'. \n",
    "\n",
    "We could also separate projects labeled with 'live' and try to predict their outcome."
   ]
  },
  {
   "cell_type": "code",
   "execution_count": 257,
   "metadata": {},
   "outputs": [],
   "source": [
    "data=data[data['state'].isin(['failed', 'successful'])]"
   ]
  },
  {
   "cell_type": "code",
   "execution_count": 258,
   "metadata": {},
   "outputs": [
    {
     "data": {
      "text/plain": [
       "failed        197719\n",
       "successful    133956\n",
       "Name: state, dtype: int64"
      ]
     },
     "execution_count": 258,
     "metadata": {},
     "output_type": "execute_result"
    }
   ],
   "source": [
    "data['state'].value_counts()"
   ]
  },
  {
   "cell_type": "markdown",
   "metadata": {},
   "source": [
    "Next, checking for null values in dataframe."
   ]
  },
  {
   "cell_type": "code",
   "execution_count": 259,
   "metadata": {},
   "outputs": [
    {
     "data": {
      "text/plain": [
       "ID                    0\n",
       "name                  3\n",
       "category              0\n",
       "main_category         0\n",
       "currency              0\n",
       "deadline              0\n",
       "goal                  0\n",
       "launched              0\n",
       "pledged               0\n",
       "state                 0\n",
       "backers               0\n",
       "country               0\n",
       "usd pledged         210\n",
       "usd_pledged_real      0\n",
       "usd_goal_real         0\n",
       "dtype: int64"
      ]
     },
     "execution_count": 259,
     "metadata": {},
     "output_type": "execute_result"
    }
   ],
   "source": [
    "data.isnull().sum()"
   ]
  },
  {
   "cell_type": "markdown",
   "metadata": {},
   "source": [
    "There are 3 null values in 'name' column. We will just drop three rows containing this values. Also, column 'usd_pledged' contains 210 null values. Considering our dataframe consists of aproximately 380,000 rows it won't affect our data much if we drop these 210 rows also."
   ]
  },
  {
   "cell_type": "code",
   "execution_count": 260,
   "metadata": {},
   "outputs": [],
   "source": [
    "data=data.dropna()"
   ]
  },
  {
   "cell_type": "code",
   "execution_count": 261,
   "metadata": {},
   "outputs": [
    {
     "data": {
      "text/plain": [
       "ID                  0\n",
       "name                0\n",
       "category            0\n",
       "main_category       0\n",
       "currency            0\n",
       "deadline            0\n",
       "goal                0\n",
       "launched            0\n",
       "pledged             0\n",
       "state               0\n",
       "backers             0\n",
       "country             0\n",
       "usd pledged         0\n",
       "usd_pledged_real    0\n",
       "usd_goal_real       0\n",
       "dtype: int64"
      ]
     },
     "execution_count": 261,
     "metadata": {},
     "output_type": "execute_result"
    }
   ],
   "source": [
    "data.isnull().sum()"
   ]
  },
  {
   "cell_type": "markdown",
   "metadata": {},
   "source": [
    "Our dataframe doesn't have null values anymore."
   ]
  },
  {
   "cell_type": "markdown",
   "metadata": {},
   "source": [
    "## Data exploration and feature engineering"
   ]
  },
  {
   "cell_type": "markdown",
   "metadata": {},
   "source": [
    "In this section we will do some exploratory data analysis on features. We will also create new features where neccesary. \n",
    "\n",
    "At the end of this section we will have clean data and will be ready to prepare prediction models."
   ]
  },
  {
   "cell_type": "markdown",
   "metadata": {},
   "source": [
    "### Target variable - 'state'"
   ]
  },
  {
   "cell_type": "code",
   "execution_count": 262,
   "metadata": {},
   "outputs": [
    {
     "data": {
      "image/png": "[encoded data removed]",
      "text/plain": [
       "<Figure size 432x288 with 1 Axes>"
      ]
     },
     "metadata": {},
     "output_type": "display_data"
    }
   ],
   "source": [
    "# Show pie chart of 'successful' and 'failed' projects to see percentages\n",
    "import matplotlib.pyplot as plt\n",
    "%matplotlib inline\n",
    "\n",
    "plt.pie(x=data['state'].value_counts(), labels=data['state'].value_counts().index, autopct='%1.1f%%')\n",
    "plt.show()"
   ]
  },
  {
   "cell_type": "markdown",
   "metadata": {},
   "source": [
    "As we can see from the pie chart above, almost 60% of projects fail to reach their goal. If 'canceled' and 'suspended' project would be added to 'failed' group of projects, the percentage would be even higher.\n",
    "\n",
    "Next, we will make new feature which will have 1's for 'successful' projects and 0's for 'failed' projects. We have to do this because 'state' column is categorical variable"
   ]
  },
  {
   "cell_type": "code",
   "execution_count": 263,
   "metadata": {},
   "outputs": [
    {
     "data": {
      "text/plain": [
       "Index(['ID', 'name', 'category', 'main_category', 'currency', 'deadline',\n",
       "       'goal', 'launched', 'pledged', 'backers', 'country', 'usd pledged',\n",
       "       'usd_pledged_real', 'usd_goal_real', 'state_failed',\n",
       "       'state_successful'],\n",
       "      dtype='object')"
      ]
     },
     "execution_count": 263,
     "metadata": {},
     "output_type": "execute_result"
    }
   ],
   "source": [
    "#Create dummy variables from 'state' column\n",
    "data=pd.get_dummies(data, columns=['state'])\n",
    "data.columns"
   ]
  },
  {
   "cell_type": "markdown",
   "metadata": {},
   "source": [
    "We can drop 'state_failed' columns because all the data we need is contained in 'state_successful' column. \n",
    "\n",
    "Also, we will rename 'state_successful' column to 'successful'."
   ]
  },
  {
   "cell_type": "code",
   "execution_count": 264,
   "metadata": {},
   "outputs": [
    {
     "data": {
      "text/plain": [
       "Index(['ID', 'name', 'category', 'main_category', 'currency', 'deadline',\n",
       "       'goal', 'launched', 'pledged', 'backers', 'country', 'usd pledged',\n",
       "       'usd_pledged_real', 'usd_goal_real', 'state_successful'],\n",
       "      dtype='object')"
      ]
     },
     "execution_count": 264,
     "metadata": {},
     "output_type": "execute_result"
    }
   ],
   "source": [
    "#drop 'state_failed' columns\n",
    "data=data.drop(labels='state_failed', axis=1)\n",
    "data.columns"
   ]
  },
  {
   "cell_type": "code",
   "execution_count": 265,
   "metadata": {},
   "outputs": [
    {
     "data": {
      "text/plain": [
       "Index(['ID', 'name', 'category', 'main_category', 'currency', 'deadline',\n",
       "       'goal', 'launched', 'pledged', 'backers', 'country', 'usd_pledged',\n",
       "       'usd_pledged_real', 'usd_goal_real', 'successful'],\n",
       "      dtype='object')"
      ]
     },
     "execution_count": 265,
     "metadata": {},
     "output_type": "execute_result"
    }
   ],
   "source": [
    "#rename 'state_successful' to 'successful' and 'usd pledged' to 'usd_pledged'  \n",
    "success_rename={'usd pledged':'usd_pledged','state_successful':'successful'}\n",
    "data.rename(mapper=success_rename, axis=1, inplace=True)\n",
    "data.columns"
   ]
  },
  {
   "cell_type": "markdown",
   "metadata": {},
   "source": [
    "Our target variable is now named 'successful'."
   ]
  },
  {
   "cell_type": "markdown",
   "metadata": {},
   "source": [
    "### 'category' and 'main category' features"
   ]
  },
  {
   "cell_type": "code",
   "execution_count": 266,
   "metadata": {},
   "outputs": [
    {
     "data": {
      "text/plain": [
       "159"
      ]
     },
     "execution_count": 266,
     "metadata": {},
     "output_type": "execute_result"
    }
   ],
   "source": [
    "unique_categories=data['category'].unique()\n",
    "len(unique_categories)"
   ]
  },
  {
   "cell_type": "code",
   "execution_count": 267,
   "metadata": {},
   "outputs": [
    {
     "data": {
      "text/plain": [
       "Film & Video    56503\n",
       "Music           45801\n",
       "Publishing      35413\n",
       "Games           28520\n",
       "Technology      27046\n",
       "Art             25640\n",
       "Design          25363\n",
       "Food            22054\n",
       "Fashion         19774\n",
       "Theater         10242\n",
       "Comics           9878\n",
       "Photography      9689\n",
       "Crafts           7818\n",
       "Journalism       4148\n",
       "Dance            3573\n",
       "Name: main_category, dtype: int64"
      ]
     },
     "execution_count": 267,
     "metadata": {},
     "output_type": "execute_result"
    }
   ],
   "source": [
    "data['main_category'].value_counts()"
   ]
  },
  {
   "cell_type": "code",
   "execution_count": 268,
   "metadata": {},
   "outputs": [
    {
     "data": {
      "text/plain": [
       "<AxesSubplot:xlabel='main_category'>"
      ]
     },
     "execution_count": 268,
     "metadata": {},
     "output_type": "execute_result"
    },
    {
     "data": {
      "image/png": "[encoded data removed]",
      "text/plain": [
       "<Figure size 720x432 with 1 Axes>"
      ]
     },
     "metadata": {
      "needs_background": "light"
     },
     "output_type": "display_data"
    }
   ],
   "source": [
    "import seaborn as sns\n",
    "\n",
    "plt.figure(figsize=(10,6))\n",
    "sns.barplot(x=data['main_category'].value_counts(), y=data['main_category'].value_counts().index)"
   ]
  },
  {
   "cell_type": "markdown",
   "metadata": {},
   "source": [
    "It would be interesting to see percentages of successful projects by main categories."
   ]
  },
  {
   "cell_type": "code",
   "execution_count": 269,
   "metadata": {},
   "outputs": [],
   "source": [
    "# value counts of main categories as dataframe\n",
    "all_grouped=data['main_category'].value_counts().reset_index()\n",
    "\n",
    "all_grouped=all_grouped.sort_values('index')\n",
    "\n",
    "# rename column to 'total'\n",
    "rename_category={'main_category':'total'}\n",
    "\n",
    "all_grouped.rename(mapper=rename_category, axis=1, inplace=True)"
   ]
  },
  {
   "cell_type": "code",
   "execution_count": 270,
   "metadata": {},
   "outputs": [],
   "source": [
    "# only successful projects grouped by categories (returned as dataframe)\n",
    "\n",
    "only_success=data['main_category'][data['successful']==1].value_counts().reset_index()\n",
    "\n",
    "# sort by categories\n",
    "rename_success={'main_category':'successful'}\n",
    "only_success=only_success.sort_values('index').rename(mapper=rename_success, axis=1)"
   ]
  },
  {
   "cell_type": "code",
   "execution_count": 271,
   "metadata": {},
   "outputs": [],
   "source": [
    "# merge all_grouped and only_success dataframes\n",
    "projects_success_rate=all_grouped.merge(only_success, on='index')"
   ]
  },
  {
   "cell_type": "code",
   "execution_count": 272,
   "metadata": {},
   "outputs": [
    {
     "data": {
      "text/html": [
       "<div>\n",
       "<style scoped>\n",
       "    .dataframe tbody tr th:only-of-type {\n",
       "        vertical-align: middle;\n",
       "    }\n",
       "\n",
       "    .dataframe tbody tr th {\n",
       "        vertical-align: top;\n",
       "    }\n",
       "\n",
       "    .dataframe thead th {\n",
       "        text-align: right;\n",
       "    }\n",
       "</style>\n",
       "<table border=\"1\" class=\"dataframe\">\n",
       "  <thead>\n",
       "    <tr style=\"text-align: right;\">\n",
       "      <th></th>\n",
       "      <th>index</th>\n",
       "      <th>total</th>\n",
       "      <th>successful</th>\n",
       "      <th>success_ratio</th>\n",
       "    </tr>\n",
       "  </thead>\n",
       "  <tbody>\n",
       "    <tr>\n",
       "      <th>3</th>\n",
       "      <td>Dance</td>\n",
       "      <td>3573</td>\n",
       "      <td>2338</td>\n",
       "      <td>0.654352</td>\n",
       "    </tr>\n",
       "    <tr>\n",
       "      <th>14</th>\n",
       "      <td>Theater</td>\n",
       "      <td>10242</td>\n",
       "      <td>6534</td>\n",
       "      <td>0.637961</td>\n",
       "    </tr>\n",
       "    <tr>\n",
       "      <th>1</th>\n",
       "      <td>Comics</td>\n",
       "      <td>9878</td>\n",
       "      <td>5842</td>\n",
       "      <td>0.591415</td>\n",
       "    </tr>\n",
       "    <tr>\n",
       "      <th>10</th>\n",
       "      <td>Music</td>\n",
       "      <td>45801</td>\n",
       "      <td>24105</td>\n",
       "      <td>0.526299</td>\n",
       "    </tr>\n",
       "    <tr>\n",
       "      <th>0</th>\n",
       "      <td>Art</td>\n",
       "      <td>25640</td>\n",
       "      <td>11510</td>\n",
       "      <td>0.448908</td>\n",
       "    </tr>\n",
       "    <tr>\n",
       "      <th>8</th>\n",
       "      <td>Games</td>\n",
       "      <td>28520</td>\n",
       "      <td>12518</td>\n",
       "      <td>0.438920</td>\n",
       "    </tr>\n",
       "    <tr>\n",
       "      <th>6</th>\n",
       "      <td>Film &amp; Video</td>\n",
       "      <td>56503</td>\n",
       "      <td>23612</td>\n",
       "      <td>0.417889</td>\n",
       "    </tr>\n",
       "    <tr>\n",
       "      <th>4</th>\n",
       "      <td>Design</td>\n",
       "      <td>25363</td>\n",
       "      <td>10549</td>\n",
       "      <td>0.415921</td>\n",
       "    </tr>\n",
       "    <tr>\n",
       "      <th>12</th>\n",
       "      <td>Publishing</td>\n",
       "      <td>35413</td>\n",
       "      <td>12300</td>\n",
       "      <td>0.347330</td>\n",
       "    </tr>\n",
       "    <tr>\n",
       "      <th>11</th>\n",
       "      <td>Photography</td>\n",
       "      <td>9689</td>\n",
       "      <td>3305</td>\n",
       "      <td>0.341108</td>\n",
       "    </tr>\n",
       "    <tr>\n",
       "      <th>5</th>\n",
       "      <td>Fashion</td>\n",
       "      <td>19774</td>\n",
       "      <td>5593</td>\n",
       "      <td>0.282846</td>\n",
       "    </tr>\n",
       "    <tr>\n",
       "      <th>7</th>\n",
       "      <td>Food</td>\n",
       "      <td>22054</td>\n",
       "      <td>6085</td>\n",
       "      <td>0.275914</td>\n",
       "    </tr>\n",
       "    <tr>\n",
       "      <th>2</th>\n",
       "      <td>Crafts</td>\n",
       "      <td>7818</td>\n",
       "      <td>2115</td>\n",
       "      <td>0.270530</td>\n",
       "    </tr>\n",
       "    <tr>\n",
       "      <th>9</th>\n",
       "      <td>Journalism</td>\n",
       "      <td>4148</td>\n",
       "      <td>1012</td>\n",
       "      <td>0.243973</td>\n",
       "    </tr>\n",
       "    <tr>\n",
       "      <th>13</th>\n",
       "      <td>Technology</td>\n",
       "      <td>27046</td>\n",
       "      <td>6433</td>\n",
       "      <td>0.237854</td>\n",
       "    </tr>\n",
       "  </tbody>\n",
       "</table>\n",
       "</div>"
      ],
      "text/plain": [
       "           index  total  successful  success_ratio\n",
       "3          Dance   3573        2338       0.654352\n",
       "14       Theater  10242        6534       0.637961\n",
       "1         Comics   9878        5842       0.591415\n",
       "10         Music  45801       24105       0.526299\n",
       "0            Art  25640       11510       0.448908\n",
       "8          Games  28520       12518       0.438920\n",
       "6   Film & Video  56503       23612       0.417889\n",
       "4         Design  25363       10549       0.415921\n",
       "12    Publishing  35413       12300       0.347330\n",
       "11   Photography   9689        3305       0.341108\n",
       "5        Fashion  19774        5593       0.282846\n",
       "7           Food  22054        6085       0.275914\n",
       "2         Crafts   7818        2115       0.270530\n",
       "9     Journalism   4148        1012       0.243973\n",
       "13    Technology  27046        6433       0.237854"
      ]
     },
     "execution_count": 272,
     "metadata": {},
     "output_type": "execute_result"
    }
   ],
   "source": [
    "# add new column which shows success ratio of projects by categories\n",
    "projects_success_rate['success_ratio']=projects_success_rate['successful']/projects_success_rate['total']\n",
    "\n",
    "projects_success_rate.sort_values('success_ratio', ascending=False)"
   ]
  },
  {
   "cell_type": "markdown",
   "metadata": {},
   "source": [
    "It looks like best chances of project being successful and being funded have projects in dance, theater, comics and music categories. Notice that all this categories have one thing in common, they all could fall under one big umbrella called 'entertainment'.\n",
    "\n",
    "Least chances of project being funded have projects in technology and journalism."
   ]
  },
  {
   "cell_type": "markdown",
   "metadata": {},
   "source": [
    "### 'country' and 'currency' features"
   ]
  },
  {
   "cell_type": "code",
   "execution_count": 273,
   "metadata": {},
   "outputs": [
    {
     "data": {
      "text/plain": [
       "US    261358\n",
       "GB     29453\n",
       "CA     12370\n",
       "AU      6616\n",
       "DE      3436\n",
       "FR      2520\n",
       "NL      2411\n",
       "IT      2369\n",
       "ES      1873\n",
       "SE      1509\n",
       "MX      1411\n",
       "NZ      1274\n",
       "DK       926\n",
       "IE       683\n",
       "CH       652\n",
       "NO       582\n",
       "BE       523\n",
       "AT       485\n",
       "HK       477\n",
       "SG       454\n",
       "LU        57\n",
       "JP        23\n",
       "Name: country, dtype: int64"
      ]
     },
     "execution_count": 273,
     "metadata": {},
     "output_type": "execute_result"
    }
   ],
   "source": [
    "countries=data['country'].value_counts()\n",
    "countries"
   ]
  },
  {
   "cell_type": "markdown",
   "metadata": {},
   "source": [
    "As expected, the most projects are located in the US, in fact, US has more projects than rest of the countries combined. Let's see what is success rate of projects by different countries."
   ]
  },
  {
   "cell_type": "code",
   "execution_count": 274,
   "metadata": {},
   "outputs": [
    {
     "data": {
      "text/html": [
       "<div>\n",
       "<style scoped>\n",
       "    .dataframe tbody tr th:only-of-type {\n",
       "        vertical-align: middle;\n",
       "    }\n",
       "\n",
       "    .dataframe tbody tr th {\n",
       "        vertical-align: top;\n",
       "    }\n",
       "\n",
       "    .dataframe thead th {\n",
       "        text-align: right;\n",
       "    }\n",
       "</style>\n",
       "<table border=\"1\" class=\"dataframe\">\n",
       "  <thead>\n",
       "    <tr style=\"text-align: right;\">\n",
       "      <th>successful</th>\n",
       "      <th>0</th>\n",
       "      <th>1</th>\n",
       "      <th>success ratio</th>\n",
       "    </tr>\n",
       "    <tr>\n",
       "      <th>country</th>\n",
       "      <th></th>\n",
       "      <th></th>\n",
       "      <th></th>\n",
       "    </tr>\n",
       "  </thead>\n",
       "  <tbody>\n",
       "    <tr>\n",
       "      <th>HK</th>\n",
       "      <td>261</td>\n",
       "      <td>216</td>\n",
       "      <td>0.452830</td>\n",
       "    </tr>\n",
       "    <tr>\n",
       "      <th>US</th>\n",
       "      <td>152059</td>\n",
       "      <td>109299</td>\n",
       "      <td>0.418196</td>\n",
       "    </tr>\n",
       "    <tr>\n",
       "      <th>GB</th>\n",
       "      <td>17386</td>\n",
       "      <td>12067</td>\n",
       "      <td>0.409704</td>\n",
       "    </tr>\n",
       "    <tr>\n",
       "      <th>SG</th>\n",
       "      <td>276</td>\n",
       "      <td>178</td>\n",
       "      <td>0.392070</td>\n",
       "    </tr>\n",
       "    <tr>\n",
       "      <th>DK</th>\n",
       "      <td>566</td>\n",
       "      <td>360</td>\n",
       "      <td>0.388769</td>\n",
       "    </tr>\n",
       "    <tr>\n",
       "      <th>FR</th>\n",
       "      <td>1612</td>\n",
       "      <td>908</td>\n",
       "      <td>0.360317</td>\n",
       "    </tr>\n",
       "    <tr>\n",
       "      <th>NZ</th>\n",
       "      <td>826</td>\n",
       "      <td>448</td>\n",
       "      <td>0.351648</td>\n",
       "    </tr>\n",
       "    <tr>\n",
       "      <th>SE</th>\n",
       "      <td>1000</td>\n",
       "      <td>509</td>\n",
       "      <td>0.337309</td>\n",
       "    </tr>\n",
       "    <tr>\n",
       "      <th>CA</th>\n",
       "      <td>8236</td>\n",
       "      <td>4134</td>\n",
       "      <td>0.334196</td>\n",
       "    </tr>\n",
       "    <tr>\n",
       "      <th>LU</th>\n",
       "      <td>38</td>\n",
       "      <td>19</td>\n",
       "      <td>0.333333</td>\n",
       "    </tr>\n",
       "    <tr>\n",
       "      <th>JP</th>\n",
       "      <td>16</td>\n",
       "      <td>7</td>\n",
       "      <td>0.304348</td>\n",
       "    </tr>\n",
       "    <tr>\n",
       "      <th>AU</th>\n",
       "      <td>4606</td>\n",
       "      <td>2010</td>\n",
       "      <td>0.303809</td>\n",
       "    </tr>\n",
       "    <tr>\n",
       "      <th>IE</th>\n",
       "      <td>476</td>\n",
       "      <td>207</td>\n",
       "      <td>0.303075</td>\n",
       "    </tr>\n",
       "    <tr>\n",
       "      <th>BE</th>\n",
       "      <td>371</td>\n",
       "      <td>152</td>\n",
       "      <td>0.290631</td>\n",
       "    </tr>\n",
       "    <tr>\n",
       "      <th>CH</th>\n",
       "      <td>465</td>\n",
       "      <td>187</td>\n",
       "      <td>0.286810</td>\n",
       "    </tr>\n",
       "    <tr>\n",
       "      <th>MX</th>\n",
       "      <td>1015</td>\n",
       "      <td>396</td>\n",
       "      <td>0.280652</td>\n",
       "    </tr>\n",
       "    <tr>\n",
       "      <th>NO</th>\n",
       "      <td>420</td>\n",
       "      <td>162</td>\n",
       "      <td>0.278351</td>\n",
       "    </tr>\n",
       "    <tr>\n",
       "      <th>DE</th>\n",
       "      <td>2499</td>\n",
       "      <td>937</td>\n",
       "      <td>0.272701</td>\n",
       "    </tr>\n",
       "    <tr>\n",
       "      <th>ES</th>\n",
       "      <td>1381</td>\n",
       "      <td>492</td>\n",
       "      <td>0.262680</td>\n",
       "    </tr>\n",
       "    <tr>\n",
       "      <th>NL</th>\n",
       "      <td>1794</td>\n",
       "      <td>617</td>\n",
       "      <td>0.255910</td>\n",
       "    </tr>\n",
       "    <tr>\n",
       "      <th>AT</th>\n",
       "      <td>378</td>\n",
       "      <td>107</td>\n",
       "      <td>0.220619</td>\n",
       "    </tr>\n",
       "    <tr>\n",
       "      <th>IT</th>\n",
       "      <td>1930</td>\n",
       "      <td>439</td>\n",
       "      <td>0.185310</td>\n",
       "    </tr>\n",
       "  </tbody>\n",
       "</table>\n",
       "</div>"
      ],
      "text/plain": [
       "successful       0       1  success ratio\n",
       "country                                  \n",
       "HK             261     216       0.452830\n",
       "US          152059  109299       0.418196\n",
       "GB           17386   12067       0.409704\n",
       "SG             276     178       0.392070\n",
       "DK             566     360       0.388769\n",
       "FR            1612     908       0.360317\n",
       "NZ             826     448       0.351648\n",
       "SE            1000     509       0.337309\n",
       "CA            8236    4134       0.334196\n",
       "LU              38      19       0.333333\n",
       "JP              16       7       0.304348\n",
       "AU            4606    2010       0.303809\n",
       "IE             476     207       0.303075\n",
       "BE             371     152       0.290631\n",
       "CH             465     187       0.286810\n",
       "MX            1015     396       0.280652\n",
       "NO             420     162       0.278351\n",
       "DE            2499     937       0.272701\n",
       "ES            1381     492       0.262680\n",
       "NL            1794     617       0.255910\n",
       "AT             378     107       0.220619\n",
       "IT            1930     439       0.185310"
      ]
     },
     "execution_count": 274,
     "metadata": {},
     "output_type": "execute_result"
    }
   ],
   "source": [
    "crosst = pd.crosstab(data['country'],data['successful'])\n",
    "crosst['success ratio'] = crosst[1]/crosst.sum(axis=1)\n",
    "crosst.sort_values(by=['success ratio'],inplace=True,ascending=False)\n",
    "crosst"
   ]
  },
  {
   "cell_type": "markdown",
   "metadata": {},
   "source": [
    "It look like projects from US have good chances of being successful. Top 5 countries by success ratio are HK (Hong Kong), US (United States), GB (Great Britan), SG (Singapore) and DK (Denmark).\n",
    "\n",
    "Let's see if 'currency' column relates to 'country' column (value counts should return approximately equal counts)."
   ]
  },
  {
   "cell_type": "code",
   "execution_count": 275,
   "metadata": {},
   "outputs": [
    {
     "data": {
      "text/plain": [
       "USD    261358\n",
       "GBP     29453\n",
       "EUR     14357\n",
       "CAD     12370\n",
       "AUD      6616\n",
       "SEK      1509\n",
       "MXN      1411\n",
       "NZD      1274\n",
       "DKK       926\n",
       "CHF       652\n",
       "NOK       582\n",
       "HKD       477\n",
       "SGD       454\n",
       "JPY        23\n",
       "Name: currency, dtype: int64"
      ]
     },
     "execution_count": 275,
     "metadata": {},
     "output_type": "execute_result"
    }
   ],
   "source": [
    "currencies=data['currency'].value_counts()\n",
    "\n",
    "currencies"
   ]
  },
  {
   "cell_type": "markdown",
   "metadata": {},
   "source": [
    "We can see there are less currencies than countries in our dataframe. We can conclude that some countries are using same currency. This is the case with euro countries which are using their common currency EUR."
   ]
  },
  {
   "cell_type": "markdown",
   "metadata": {},
   "source": [
    "### 'backers' feature"
   ]
  },
  {
   "cell_type": "code",
   "execution_count": 276,
   "metadata": {},
   "outputs": [
    {
     "data": {
      "text/plain": [
       "count    331462.000000\n",
       "mean        116.456315\n",
       "std         965.732911\n",
       "min           0.000000\n",
       "25%           2.000000\n",
       "50%          15.000000\n",
       "75%          63.000000\n",
       "max      219382.000000\n",
       "Name: backers, dtype: float64"
      ]
     },
     "execution_count": 276,
     "metadata": {},
     "output_type": "execute_result"
    }
   ],
   "source": [
    "data['backers'].describe()"
   ]
  },
  {
   "cell_type": "code",
   "execution_count": 277,
   "metadata": {},
   "outputs": [
    {
     "data": {
      "text/plain": [
       "{'whiskers': [<matplotlib.lines.Line2D at 0x7faabb106040>,\n",
       "  <matplotlib.lines.Line2D at 0x7faabb1063a0>],\n",
       " 'caps': [<matplotlib.lines.Line2D at 0x7faabb106700>,\n",
       "  <matplotlib.lines.Line2D at 0x7faabb106a60>],\n",
       " 'boxes': [<matplotlib.lines.Line2D at 0x7faabb0f7ca0>],\n",
       " 'medians': [<matplotlib.lines.Line2D at 0x7faabb106dc0>],\n",
       " 'fliers': [<matplotlib.lines.Line2D at 0x7faabb092160>],\n",
       " 'means': []}"
      ]
     },
     "execution_count": 277,
     "metadata": {},
     "output_type": "execute_result"
    },
    {
     "data": {
      "image/png": "[encoded data removed]",
      "text/plain": [
       "<Figure size 432x288 with 1 Axes>"
      ]
     },
     "metadata": {
      "needs_background": "light"
     },
     "output_type": "display_data"
    }
   ],
   "source": [
    "#visualize outliers with boxplot\n",
    "plt.boxplot(data['backers'])"
   ]
  },
  {
   "cell_type": "markdown",
   "metadata": {},
   "source": [
    "We will set our upper threshold and drop all values that are gretaer than that threshold (drop outliers)."
   ]
  },
  {
   "cell_type": "code",
   "execution_count": 278,
   "metadata": {},
   "outputs": [
    {
     "data": {
      "text/plain": [
       "12647.290499999595"
      ]
     },
     "execution_count": 278,
     "metadata": {},
     "output_type": "execute_result"
    }
   ],
   "source": [
    "#set max_threshold\n",
    "max_threshold=data['backers'].quantile(0.9995)\n",
    "max_threshold"
   ]
  },
  {
   "cell_type": "code",
   "execution_count": 279,
   "metadata": {},
   "outputs": [
    {
     "data": {
      "text/plain": [
       "(166, 15)"
      ]
     },
     "execution_count": 279,
     "metadata": {},
     "output_type": "execute_result"
    }
   ],
   "source": [
    "#how many outliers do we have (values greater than max_threshold)\n",
    "outliers=data[data.backers>max_threshold]\n",
    "outliers.shape"
   ]
  },
  {
   "cell_type": "code",
   "execution_count": 280,
   "metadata": {},
   "outputs": [
    {
     "data": {
      "text/plain": [
       "count    331296.000000\n",
       "mean        102.062929\n",
       "std         432.965752\n",
       "min           0.000000\n",
       "25%           2.000000\n",
       "50%          15.000000\n",
       "75%          63.000000\n",
       "max       12626.000000\n",
       "Name: backers, dtype: float64"
      ]
     },
     "execution_count": 280,
     "metadata": {},
     "output_type": "execute_result"
    }
   ],
   "source": [
    "#remove outliers from dataset\n",
    "data=data[data.backers<max_threshold]\n",
    "\n",
    "#recalculate summary statistics\n",
    "data['backers'].describe()"
   ]
  },
  {
   "cell_type": "code",
   "execution_count": 281,
   "metadata": {},
   "outputs": [
    {
     "data": {
      "text/plain": [
       "{'whiskers': [<matplotlib.lines.Line2D at 0x7faabb0cfeb0>,\n",
       "  <matplotlib.lines.Line2D at 0x7faabb05e250>],\n",
       " 'caps': [<matplotlib.lines.Line2D at 0x7faabb05e5b0>,\n",
       "  <matplotlib.lines.Line2D at 0x7faabb05e910>],\n",
       " 'boxes': [<matplotlib.lines.Line2D at 0x7faabb0cfb50>],\n",
       " 'medians': [<matplotlib.lines.Line2D at 0x7faabb05ec70>],\n",
       " 'fliers': [<matplotlib.lines.Line2D at 0x7faabb05efd0>],\n",
       " 'means': []}"
      ]
     },
     "execution_count": 281,
     "metadata": {},
     "output_type": "execute_result"
    },
    {
     "data": {
      "image/png": "[encoded data removed]",
      "text/plain": [
       "<Figure size 432x288 with 1 Axes>"
      ]
     },
     "metadata": {
      "needs_background": "light"
     },
     "output_type": "display_data"
    }
   ],
   "source": [
    "#boxplot after removing outliers\n",
    "plt.boxplot(data['backers'])"
   ]
  },
  {
   "cell_type": "markdown",
   "metadata": {},
   "source": [
    "### 'launched' and 'deadline' features"
   ]
  },
  {
   "cell_type": "code",
   "execution_count": 282,
   "metadata": {},
   "outputs": [
    {
     "data": {
      "text/plain": [
       "0    2015-08-11 12:12:28\n",
       "1    2017-09-02 04:43:57\n",
       "2    2013-01-12 00:20:50\n",
       "3    2012-03-17 03:24:11\n",
       "5    2016-02-26 13:38:27\n",
       "Name: launched, dtype: object"
      ]
     },
     "execution_count": 282,
     "metadata": {},
     "output_type": "execute_result"
    }
   ],
   "source": [
    "# inspect 'launched' column \n",
    "data['launched'].head(5)"
   ]
  },
  {
   "cell_type": "markdown",
   "metadata": {},
   "source": [
    "Data type object of 'launched' column is object which means our column isn't being recognized as a date. We will strip hours, minutes and seconds and convert data with pd.to_datetime() so it could be recognized as a date."
   ]
  },
  {
   "cell_type": "code",
   "execution_count": 283,
   "metadata": {},
   "outputs": [],
   "source": [
    "# strip hours, minutes and seconds\n",
    "data['launched']=data['launched'].str[:10]\n",
    "\n",
    "# convert 'launched' to datetime\n",
    "data['launched'] = pd.to_datetime(data['launched'], format = '%Y-%m-%d')"
   ]
  },
  {
   "cell_type": "code",
   "execution_count": 284,
   "metadata": {},
   "outputs": [
    {
     "data": {
      "text/plain": [
       "111016   2017-04-07\n",
       "137996   2016-08-08\n",
       "139921   2013-04-19\n",
       "97       2011-07-06\n",
       "297404   2017-02-04\n",
       "Name: launched, dtype: datetime64[ns]"
      ]
     },
     "execution_count": 284,
     "metadata": {},
     "output_type": "execute_result"
    }
   ],
   "source": [
    "data['launched'].sample(5)"
   ]
  },
  {
   "cell_type": "code",
   "execution_count": 285,
   "metadata": {},
   "outputs": [
    {
     "data": {
      "text/plain": [
       "0    2015-10-09\n",
       "1    2017-11-01\n",
       "2    2013-02-26\n",
       "3    2012-04-16\n",
       "5    2016-04-01\n",
       "Name: deadline, dtype: object"
      ]
     },
     "execution_count": 285,
     "metadata": {},
     "output_type": "execute_result"
    }
   ],
   "source": [
    "# inspect 'deadline' column\n",
    "data['deadline'].head(5)"
   ]
  },
  {
   "cell_type": "code",
   "execution_count": 287,
   "metadata": {},
   "outputs": [],
   "source": [
    "# convert 'deadline' to datetime\n",
    "data['deadline'] = pd.to_datetime(data['deadline'], format = '%Y-%m-%d')"
   ]
  },
  {
   "cell_type": "code",
   "execution_count": 289,
   "metadata": {},
   "outputs": [
    {
     "data": {
      "text/plain": [
       "0   2015-10-09\n",
       "1   2017-11-01\n",
       "2   2013-02-26\n",
       "3   2012-04-16\n",
       "5   2016-04-01\n",
       "Name: deadline, dtype: datetime64[ns]"
      ]
     },
     "execution_count": 289,
     "metadata": {},
     "output_type": "execute_result"
    }
   ],
   "source": [
    "data['deadline'].head()"
   ]
  },
  {
   "cell_type": "markdown",
   "metadata": {},
   "source": [
    "Now we have both 'launched' and 'deadline' in the right format. We can create new column called 'campaign_duration' which will be showing how many days campaign was active. It will be interesting to see if project which are active for longer period of time have better chances of being funded in compariosn with shorter projects."
   ]
  },
  {
   "cell_type": "code",
   "execution_count": 292,
   "metadata": {},
   "outputs": [
    {
     "data": {
      "text/plain": [
       "180790    15\n",
       "293959    47\n",
       "199684    27\n",
       "188679    30\n",
       "312679    30\n",
       "288826    30\n",
       "182744    26\n",
       "256237    35\n",
       "134822    15\n",
       "291147    30\n",
       "Name: campaign_duration, dtype: int64"
      ]
     },
     "execution_count": 292,
     "metadata": {},
     "output_type": "execute_result"
    }
   ],
   "source": [
    "# create new column 'campaign_duration' (in days)\n",
    "data['campaign_duration']=(data['deadline']-data['launched']).apply(lambda x: x.days)\n",
    "\n",
    "data['campaign_duration'].sample(10)"
   ]
  },
  {
   "cell_type": "code",
   "execution_count": 294,
   "metadata": {},
   "outputs": [
    {
     "data": {
      "text/plain": [
       "count    331296.000000\n",
       "mean         33.955870\n",
       "std          12.715659\n",
       "min           1.000000\n",
       "25%          30.000000\n",
       "50%          30.000000\n",
       "75%          36.000000\n",
       "max          92.000000\n",
       "Name: campaign_duration, dtype: float64"
      ]
     },
     "execution_count": 294,
     "metadata": {},
     "output_type": "execute_result"
    }
   ],
   "source": [
    "# summary statistics for 'campaign_duration' column\n",
    "data['campaign_duration'].describe()"
   ]
  },
  {
   "cell_type": "code",
   "execution_count": 297,
   "metadata": {},
   "outputs": [
    {
     "data": {
      "image/png": "[encoded data removed]",
      "text/plain": [
       "<Figure size 432x288 with 1 Axes>"
      ]
     },
     "metadata": {
      "needs_background": "light"
     },
     "output_type": "display_data"
    }
   ],
   "source": [
    "# histogram to observe 'campaign_duration' distribution\n",
    "plt.hist(data['campaign_duration'])\n",
    "plt.xlabel('Duration (days)')\n",
    "plt.ylabel('Count')\n",
    "plt.show()"
   ]
  },
  {
   "cell_type": "markdown",
   "metadata": {},
   "source": [
    "\"Projects on Kickstarter can last anywhere from 1 - 60 days. We've done some research, and found that projects lasting any longer are rarely successful. \n",
    "\n",
    "We recommend setting your campaign at 30 days or less. Campaigns with shorter durations have higher success rates, and create a helpful sense of urgency around your project.\"  - Kickstarter Support\n",
    "\n",
    "We will not remove project over 60 day because maybe in some point of time in the past there was possible to campaign project for more than 60 days. Let's check how many data would we lose if we decided to remove project over 60 days."
   ]
  },
  {
   "cell_type": "code",
   "execution_count": 300,
   "metadata": {},
   "outputs": [
    {
     "data": {
      "text/plain": [
       "4824"
      ]
     },
     "execution_count": 300,
     "metadata": {},
     "output_type": "execute_result"
    }
   ],
   "source": [
    "data[data.campaign_duration>60].shape[0]"
   ]
  },
  {
   "cell_type": "markdown",
   "metadata": {},
   "source": [
    "### money features"
   ]
  },
  {
   "cell_type": "markdown",
   "metadata": {},
   "source": [
    "Money features: 'goal','usd_goal_real', 'pledged', 'usd_pledged_real' and 'usd_pledged' \n",
    "\n",
    "Explanations of columns:\n",
    "- usd_pledged: conversion in US dollars of the pledged column (conversion done by kickstarter)\n",
    "\n",
    "- usd_pledged_real: conversion in US dollars of the pledged column (conversion from Fixer.io API)\n",
    "\n",
    "- usd_goal_real: conversion in US dollars of the goal column (conversion from Fixer.io API)"
   ]
  },
  {
   "cell_type": "code",
   "execution_count": 309,
   "metadata": {},
   "outputs": [
    {
     "data": {
      "text/html": [
       "<div>\n",
       "<style scoped>\n",
       "    .dataframe tbody tr th:only-of-type {\n",
       "        vertical-align: middle;\n",
       "    }\n",
       "\n",
       "    .dataframe tbody tr th {\n",
       "        vertical-align: top;\n",
       "    }\n",
       "\n",
       "    .dataframe thead th {\n",
       "        text-align: right;\n",
       "    }\n",
       "</style>\n",
       "<table border=\"1\" class=\"dataframe\">\n",
       "  <thead>\n",
       "    <tr style=\"text-align: right;\">\n",
       "      <th></th>\n",
       "      <th>goal</th>\n",
       "      <th>usd_goal_real</th>\n",
       "      <th>pledged</th>\n",
       "      <th>usd_pledged</th>\n",
       "      <th>usd_pledged_real</th>\n",
       "    </tr>\n",
       "  </thead>\n",
       "  <tbody>\n",
       "    <tr>\n",
       "      <th>count</th>\n",
       "      <td>3.312960e+05</td>\n",
       "      <td>3.312960e+05</td>\n",
       "      <td>3.312960e+05</td>\n",
       "      <td>3.312960e+05</td>\n",
       "      <td>3.312960e+05</td>\n",
       "    </tr>\n",
       "    <tr>\n",
       "      <th>mean</th>\n",
       "      <td>4.413240e+04</td>\n",
       "      <td>4.138356e+04</td>\n",
       "      <td>9.360904e+03</td>\n",
       "      <td>6.754318e+03</td>\n",
       "      <td>8.705996e+03</td>\n",
       "    </tr>\n",
       "    <tr>\n",
       "      <th>std</th>\n",
       "      <td>1.118489e+06</td>\n",
       "      <td>1.109492e+06</td>\n",
       "      <td>5.984349e+04</td>\n",
       "      <td>4.110835e+04</td>\n",
       "      <td>5.014222e+04</td>\n",
       "    </tr>\n",
       "    <tr>\n",
       "      <th>min</th>\n",
       "      <td>1.000000e-02</td>\n",
       "      <td>1.000000e-02</td>\n",
       "      <td>0.000000e+00</td>\n",
       "      <td>0.000000e+00</td>\n",
       "      <td>0.000000e+00</td>\n",
       "    </tr>\n",
       "    <tr>\n",
       "      <th>25%</th>\n",
       "      <td>2.000000e+03</td>\n",
       "      <td>2.000000e+03</td>\n",
       "      <td>5.000000e+01</td>\n",
       "      <td>2.500000e+01</td>\n",
       "      <td>5.000000e+01</td>\n",
       "    </tr>\n",
       "    <tr>\n",
       "      <th>50%</th>\n",
       "      <td>5.000000e+03</td>\n",
       "      <td>5.000000e+03</td>\n",
       "      <td>7.800000e+02</td>\n",
       "      <td>5.010000e+02</td>\n",
       "      <td>7.853750e+02</td>\n",
       "    </tr>\n",
       "    <tr>\n",
       "      <th>75%</th>\n",
       "      <td>1.500000e+04</td>\n",
       "      <td>1.500000e+04</td>\n",
       "      <td>4.643497e+03</td>\n",
       "      <td>3.413000e+03</td>\n",
       "      <td>4.599000e+03</td>\n",
       "    </tr>\n",
       "    <tr>\n",
       "      <th>max</th>\n",
       "      <td>1.000000e+08</td>\n",
       "      <td>1.663614e+08</td>\n",
       "      <td>1.003530e+07</td>\n",
       "      <td>3.656618e+06</td>\n",
       "      <td>4.236618e+06</td>\n",
       "    </tr>\n",
       "  </tbody>\n",
       "</table>\n",
       "</div>"
      ],
      "text/plain": [
       "               goal  usd_goal_real       pledged   usd_pledged  \\\n",
       "count  3.312960e+05   3.312960e+05  3.312960e+05  3.312960e+05   \n",
       "mean   4.413240e+04   4.138356e+04  9.360904e+03  6.754318e+03   \n",
       "std    1.118489e+06   1.109492e+06  5.984349e+04  4.110835e+04   \n",
       "min    1.000000e-02   1.000000e-02  0.000000e+00  0.000000e+00   \n",
       "25%    2.000000e+03   2.000000e+03  5.000000e+01  2.500000e+01   \n",
       "50%    5.000000e+03   5.000000e+03  7.800000e+02  5.010000e+02   \n",
       "75%    1.500000e+04   1.500000e+04  4.643497e+03  3.413000e+03   \n",
       "max    1.000000e+08   1.663614e+08  1.003530e+07  3.656618e+06   \n",
       "\n",
       "       usd_pledged_real  \n",
       "count      3.312960e+05  \n",
       "mean       8.705996e+03  \n",
       "std        5.014222e+04  \n",
       "min        0.000000e+00  \n",
       "25%        5.000000e+01  \n",
       "50%        7.853750e+02  \n",
       "75%        4.599000e+03  \n",
       "max        4.236618e+06  "
      ]
     },
     "execution_count": 309,
     "metadata": {},
     "output_type": "execute_result"
    }
   ],
   "source": [
    "money_cols=['goal', 'usd_goal_real', 'pledged', 'usd_pledged', 'usd_pledged_real']\n",
    "\n",
    "data[money_cols].describe()"
   ]
  }
 ],
 "metadata": {
  "kernelspec": {
   "display_name": "Python 3",
   "language": "python",
   "name": "python3"
  },
  "language_info": {
   "codemirror_mode": {
    "name": "ipython",
    "version": 3
   },
   "file_extension": ".py",
   "mimetype": "text/x-python",
   "name": "python",
   "nbconvert_exporter": "python",
   "pygments_lexer": "ipython3",
   "version": "3.8.5"
  }
 },
 "nbformat": 4,
 "nbformat_minor": 4
}
