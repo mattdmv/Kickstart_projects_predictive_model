{
 "cells": [
  {
   "cell_type": "markdown",
   "metadata": {},
   "source": [
    "## Introduction"
   ]
  },
  {
   "cell_type": "markdown",
   "metadata": {},
   "source": [
    "Kickstarter is a funding platform directed toward helping creative projects get off the ground. It's entirely driven by crowdfunding, so donations from the general public fuel these dynamic new ideas.\n",
    "\n",
    "How does Kickstarter work?\n",
    "\n",
    "Kickstarter is driven by creators and backers. Creators present creative project ideas, and backers fund them. Creators set up a page to display their project's details and prototypes using text, video, and photos. Project creators choose a deadline and a minimum funding goal and create reward levels for backers who pledge specific amounts. \n",
    "Once enough backers have funded the project, the creator can develop and produce their vision. If the goal is not met by the deadline, no funds are collected (all or nothing rule)."
   ]
  },
  {
   "cell_type": "markdown",
   "metadata": {},
   "source": [
    "### About this project \n",
    "\n",
    "Purpose of this project is to try to make a model to predict if the project would be successful or failure.\n",
    "\n",
    "Some interesting questions to answer along the analysis:\n",
    "- How many backers are needed on average to have successful Kickstarter campaign?\n",
    "- Are projects from certain countries more likely to be successful campaigns?\n",
    "- Which categories of projects are more likely to attract more backers? \n",
    "\n",
    "### Dataset information \n",
    "- Source: https://www.kaggle.com/kemical/kickstarter-projects\n",
    "\n",
    "- Content: dataset contains about 380,000 rows of data collected on crowdfunding projects hosted on Kickstarter.com. Columns are self explanatory.\n",
    "\n",
    "- Acknowledgements: Kickstarter Platform"
   ]
  },
  {
   "cell_type": "markdown",
   "metadata": {},
   "source": [
    "## Reading csv file into pandas dataframe and overview of the data"
   ]
  },
  {
   "cell_type": "code",
   "execution_count": 70,
   "metadata": {},
   "outputs": [
    {
     "data": {
      "text/html": [
       "<div>\n",
       "<style scoped>\n",
       "    .dataframe tbody tr th:only-of-type {\n",
       "        vertical-align: middle;\n",
       "    }\n",
       "\n",
       "    .dataframe tbody tr th {\n",
       "        vertical-align: top;\n",
       "    }\n",
       "\n",
       "    .dataframe thead th {\n",
       "        text-align: right;\n",
       "    }\n",
       "</style>\n",
       "<table border=\"1\" class=\"dataframe\">\n",
       "  <thead>\n",
       "    <tr style=\"text-align: right;\">\n",
       "      <th></th>\n",
       "      <th>ID</th>\n",
       "      <th>name</th>\n",
       "      <th>category</th>\n",
       "      <th>main_category</th>\n",
       "      <th>currency</th>\n",
       "      <th>deadline</th>\n",
       "      <th>goal</th>\n",
       "      <th>launched</th>\n",
       "      <th>pledged</th>\n",
       "      <th>state</th>\n",
       "      <th>backers</th>\n",
       "      <th>country</th>\n",
       "      <th>usd pledged</th>\n",
       "      <th>usd_pledged_real</th>\n",
       "      <th>usd_goal_real</th>\n",
       "    </tr>\n",
       "  </thead>\n",
       "  <tbody>\n",
       "    <tr>\n",
       "      <th>0</th>\n",
       "      <td>1000002330</td>\n",
       "      <td>The Songs of Adelaide &amp; Abullah</td>\n",
       "      <td>Poetry</td>\n",
       "      <td>Publishing</td>\n",
       "      <td>GBP</td>\n",
       "      <td>2015-10-09</td>\n",
       "      <td>1000.0</td>\n",
       "      <td>2015-08-11 12:12:28</td>\n",
       "      <td>0.0</td>\n",
       "      <td>failed</td>\n",
       "      <td>0</td>\n",
       "      <td>GB</td>\n",
       "      <td>0.0</td>\n",
       "      <td>0.0</td>\n",
       "      <td>1533.95</td>\n",
       "    </tr>\n",
       "    <tr>\n",
       "      <th>1</th>\n",
       "      <td>1000003930</td>\n",
       "      <td>Greeting From Earth: ZGAC Arts Capsule For ET</td>\n",
       "      <td>Narrative Film</td>\n",
       "      <td>Film &amp; Video</td>\n",
       "      <td>USD</td>\n",
       "      <td>2017-11-01</td>\n",
       "      <td>30000.0</td>\n",
       "      <td>2017-09-02 04:43:57</td>\n",
       "      <td>2421.0</td>\n",
       "      <td>failed</td>\n",
       "      <td>15</td>\n",
       "      <td>US</td>\n",
       "      <td>100.0</td>\n",
       "      <td>2421.0</td>\n",
       "      <td>30000.00</td>\n",
       "    </tr>\n",
       "    <tr>\n",
       "      <th>2</th>\n",
       "      <td>1000004038</td>\n",
       "      <td>Where is Hank?</td>\n",
       "      <td>Narrative Film</td>\n",
       "      <td>Film &amp; Video</td>\n",
       "      <td>USD</td>\n",
       "      <td>2013-02-26</td>\n",
       "      <td>45000.0</td>\n",
       "      <td>2013-01-12 00:20:50</td>\n",
       "      <td>220.0</td>\n",
       "      <td>failed</td>\n",
       "      <td>3</td>\n",
       "      <td>US</td>\n",
       "      <td>220.0</td>\n",
       "      <td>220.0</td>\n",
       "      <td>45000.00</td>\n",
       "    </tr>\n",
       "    <tr>\n",
       "      <th>3</th>\n",
       "      <td>1000007540</td>\n",
       "      <td>ToshiCapital Rekordz Needs Help to Complete Album</td>\n",
       "      <td>Music</td>\n",
       "      <td>Music</td>\n",
       "      <td>USD</td>\n",
       "      <td>2012-04-16</td>\n",
       "      <td>5000.0</td>\n",
       "      <td>2012-03-17 03:24:11</td>\n",
       "      <td>1.0</td>\n",
       "      <td>failed</td>\n",
       "      <td>1</td>\n",
       "      <td>US</td>\n",
       "      <td>1.0</td>\n",
       "      <td>1.0</td>\n",
       "      <td>5000.00</td>\n",
       "    </tr>\n",
       "    <tr>\n",
       "      <th>4</th>\n",
       "      <td>1000011046</td>\n",
       "      <td>Community Film Project: The Art of Neighborhoo...</td>\n",
       "      <td>Film &amp; Video</td>\n",
       "      <td>Film &amp; Video</td>\n",
       "      <td>USD</td>\n",
       "      <td>2015-08-29</td>\n",
       "      <td>19500.0</td>\n",
       "      <td>2015-07-04 08:35:03</td>\n",
       "      <td>1283.0</td>\n",
       "      <td>canceled</td>\n",
       "      <td>14</td>\n",
       "      <td>US</td>\n",
       "      <td>1283.0</td>\n",
       "      <td>1283.0</td>\n",
       "      <td>19500.00</td>\n",
       "    </tr>\n",
       "  </tbody>\n",
       "</table>\n",
       "</div>"
      ],
      "text/plain": [
       "           ID                                               name  \\\n",
       "0  1000002330                    The Songs of Adelaide & Abullah   \n",
       "1  1000003930      Greeting From Earth: ZGAC Arts Capsule For ET   \n",
       "2  1000004038                                     Where is Hank?   \n",
       "3  1000007540  ToshiCapital Rekordz Needs Help to Complete Album   \n",
       "4  1000011046  Community Film Project: The Art of Neighborhoo...   \n",
       "\n",
       "         category main_category currency    deadline     goal  \\\n",
       "0          Poetry    Publishing      GBP  2015-10-09   1000.0   \n",
       "1  Narrative Film  Film & Video      USD  2017-11-01  30000.0   \n",
       "2  Narrative Film  Film & Video      USD  2013-02-26  45000.0   \n",
       "3           Music         Music      USD  2012-04-16   5000.0   \n",
       "4    Film & Video  Film & Video      USD  2015-08-29  19500.0   \n",
       "\n",
       "              launched  pledged     state  backers country  usd pledged  \\\n",
       "0  2015-08-11 12:12:28      0.0    failed        0      GB          0.0   \n",
       "1  2017-09-02 04:43:57   2421.0    failed       15      US        100.0   \n",
       "2  2013-01-12 00:20:50    220.0    failed        3      US        220.0   \n",
       "3  2012-03-17 03:24:11      1.0    failed        1      US          1.0   \n",
       "4  2015-07-04 08:35:03   1283.0  canceled       14      US       1283.0   \n",
       "\n",
       "   usd_pledged_real  usd_goal_real  \n",
       "0               0.0        1533.95  \n",
       "1            2421.0       30000.00  \n",
       "2             220.0       45000.00  \n",
       "3               1.0        5000.00  \n",
       "4            1283.0       19500.00  "
      ]
     },
     "execution_count": 70,
     "metadata": {},
     "output_type": "execute_result"
    }
   ],
   "source": [
    "import pandas as pd\n",
    "\n",
    "data=pd.read_csv('ks-projects-201801.csv')\n",
    "data.head(5)"
   ]
  },
  {
   "cell_type": "code",
   "execution_count": 71,
   "metadata": {
    "scrolled": true
   },
   "outputs": [
    {
     "data": {
      "text/plain": [
       "(378661, 15)"
      ]
     },
     "execution_count": 71,
     "metadata": {},
     "output_type": "execute_result"
    }
   ],
   "source": [
    "data.shape"
   ]
  },
  {
   "cell_type": "markdown",
   "metadata": {},
   "source": [
    "Let's investigate columns and data types of these columns."
   ]
  },
  {
   "cell_type": "code",
   "execution_count": 72,
   "metadata": {
    "scrolled": true
   },
   "outputs": [
    {
     "name": "stdout",
     "output_type": "stream",
     "text": [
      "<class 'pandas.core.frame.DataFrame'>\n",
      "RangeIndex: 378661 entries, 0 to 378660\n",
      "Data columns (total 15 columns):\n",
      " #   Column            Non-Null Count   Dtype  \n",
      "---  ------            --------------   -----  \n",
      " 0   ID                378661 non-null  int64  \n",
      " 1   name              378657 non-null  object \n",
      " 2   category          378661 non-null  object \n",
      " 3   main_category     378661 non-null  object \n",
      " 4   currency          378661 non-null  object \n",
      " 5   deadline          378661 non-null  object \n",
      " 6   goal              378661 non-null  float64\n",
      " 7   launched          378661 non-null  object \n",
      " 8   pledged           378661 non-null  float64\n",
      " 9   state             378661 non-null  object \n",
      " 10  backers           378661 non-null  int64  \n",
      " 11  country           378661 non-null  object \n",
      " 12  usd pledged       374864 non-null  float64\n",
      " 13  usd_pledged_real  378661 non-null  float64\n",
      " 14  usd_goal_real     378661 non-null  float64\n",
      "dtypes: float64(5), int64(2), object(8)\n",
      "memory usage: 43.3+ MB\n"
     ]
    }
   ],
   "source": [
    "data.info()"
   ]
  },
  {
   "cell_type": "markdown",
   "metadata": {},
   "source": [
    "## Data cleaning"
   ]
  },
  {
   "cell_type": "code",
   "execution_count": 73,
   "metadata": {},
   "outputs": [
    {
     "data": {
      "text/plain": [
       "failed        197719\n",
       "successful    133956\n",
       "canceled       38779\n",
       "undefined       3562\n",
       "live            2799\n",
       "suspended       1846\n",
       "Name: state, dtype: int64"
      ]
     },
     "execution_count": 73,
     "metadata": {},
     "output_type": "execute_result"
    }
   ],
   "source": [
    "data['state'].value_counts()"
   ]
  },
  {
   "cell_type": "markdown",
   "metadata": {},
   "source": [
    "Project's state labeled other than 'failed' or 'successful' will be droped. As 'state' column is our target variable, we want only project labeled as 'failed' or 'successful'. \n",
    "\n",
    "We could also separate projects labeled with 'live' and try to predict their outcome."
   ]
  },
  {
   "cell_type": "code",
   "execution_count": 74,
   "metadata": {},
   "outputs": [],
   "source": [
    "data=data[data['state'].isin(['failed', 'successful'])]"
   ]
  },
  {
   "cell_type": "code",
   "execution_count": 75,
   "metadata": {},
   "outputs": [
    {
     "data": {
      "text/plain": [
       "failed        197719\n",
       "successful    133956\n",
       "Name: state, dtype: int64"
      ]
     },
     "execution_count": 75,
     "metadata": {},
     "output_type": "execute_result"
    }
   ],
   "source": [
    "data['state'].value_counts()"
   ]
  },
  {
   "cell_type": "markdown",
   "metadata": {},
   "source": [
    "Next, checking for null values in dataframe."
   ]
  },
  {
   "cell_type": "code",
   "execution_count": 76,
   "metadata": {},
   "outputs": [
    {
     "data": {
      "text/plain": [
       "ID                    0\n",
       "name                  3\n",
       "category              0\n",
       "main_category         0\n",
       "currency              0\n",
       "deadline              0\n",
       "goal                  0\n",
       "launched              0\n",
       "pledged               0\n",
       "state                 0\n",
       "backers               0\n",
       "country               0\n",
       "usd pledged         210\n",
       "usd_pledged_real      0\n",
       "usd_goal_real         0\n",
       "dtype: int64"
      ]
     },
     "execution_count": 76,
     "metadata": {},
     "output_type": "execute_result"
    }
   ],
   "source": [
    "data.isnull().sum()"
   ]
  },
  {
   "cell_type": "markdown",
   "metadata": {},
   "source": [
    "There are 3 null values in 'name' column. We will just drop three rows containing this values. Also, column 'usd_pledged' contains 210 null values. Considering our dataframe consists of aproximately 380,000 rows it won't affect our data much if we drop these 210 rows also."
   ]
  },
  {
   "cell_type": "code",
   "execution_count": 77,
   "metadata": {},
   "outputs": [],
   "source": [
    "data=data.dropna()"
   ]
  },
  {
   "cell_type": "code",
   "execution_count": 78,
   "metadata": {},
   "outputs": [
    {
     "data": {
      "text/plain": [
       "ID                  0\n",
       "name                0\n",
       "category            0\n",
       "main_category       0\n",
       "currency            0\n",
       "deadline            0\n",
       "goal                0\n",
       "launched            0\n",
       "pledged             0\n",
       "state               0\n",
       "backers             0\n",
       "country             0\n",
       "usd pledged         0\n",
       "usd_pledged_real    0\n",
       "usd_goal_real       0\n",
       "dtype: int64"
      ]
     },
     "execution_count": 78,
     "metadata": {},
     "output_type": "execute_result"
    }
   ],
   "source": [
    "data.isnull().sum()"
   ]
  },
  {
   "cell_type": "markdown",
   "metadata": {},
   "source": [
    "Our dataframe doesn't have null values anymore."
   ]
  },
  {
   "cell_type": "markdown",
   "metadata": {},
   "source": [
    "## Data exploration and feature engineering"
   ]
  },
  {
   "cell_type": "markdown",
   "metadata": {},
   "source": [
    "In this section we will do some exploratory data analysis on features. We will also create new features where neccesary. \n",
    "\n",
    "At the end of this section we will have clean data and will be ready to prepare prediction models."
   ]
  },
  {
   "cell_type": "markdown",
   "metadata": {},
   "source": [
    "### Target variable - 'state'"
   ]
  },
  {
   "cell_type": "code",
   "execution_count": 79,
   "metadata": {},
   "outputs": [
    {
     "data": {
      "image/png": "[encoded data removed]",
      "text/plain": [
       "<Figure size 432x288 with 1 Axes>"
      ]
     },
     "metadata": {},
     "output_type": "display_data"
    }
   ],
   "source": [
    "# Show pie chart of 'successful' and 'failed' projects to see percentages\n",
    "import matplotlib.pyplot as plt\n",
    "%matplotlib inline\n",
    "\n",
    "plt.pie(x=data['state'].value_counts(), labels=data['state'].value_counts().index, autopct='%1.1f%%')\n",
    "plt.show()"
   ]
  },
  {
   "cell_type": "markdown",
   "metadata": {},
   "source": [
    "As we can see from the pie chart above, almost 60% of projects fail to reach their goal. If 'canceled' and 'suspended' project would be added to 'failed' group of projects, the percentage would be even higher.\n",
    "\n",
    "Next, we will make new feature which will have 1's for 'successful' projects and 0's for 'failed' projects. We have to do this because 'state' column is categorical variable"
   ]
  },
  {
   "cell_type": "code",
   "execution_count": 80,
   "metadata": {},
   "outputs": [
    {
     "data": {
      "text/plain": [
       "Index(['ID', 'name', 'category', 'main_category', 'currency', 'deadline',\n",
       "       'goal', 'launched', 'pledged', 'backers', 'country', 'usd pledged',\n",
       "       'usd_pledged_real', 'usd_goal_real', 'state_failed',\n",
       "       'state_successful'],\n",
       "      dtype='object')"
      ]
     },
     "execution_count": 80,
     "metadata": {},
     "output_type": "execute_result"
    }
   ],
   "source": [
    "#Create dummy variables from 'state' column\n",
    "data=pd.get_dummies(data, columns=['state'])\n",
    "data.columns"
   ]
  },
  {
   "cell_type": "markdown",
   "metadata": {},
   "source": [
    "We can drop 'state_failed' columns because all the data we need is contained in 'state_successful' column. \n",
    "\n",
    "Also, we will rename 'state_successful' column to 'successful'."
   ]
  },
  {
   "cell_type": "code",
   "execution_count": 81,
   "metadata": {},
   "outputs": [
    {
     "data": {
      "text/plain": [
       "Index(['ID', 'name', 'category', 'main_category', 'currency', 'deadline',\n",
       "       'goal', 'launched', 'pledged', 'backers', 'country', 'usd pledged',\n",
       "       'usd_pledged_real', 'usd_goal_real', 'state_successful'],\n",
       "      dtype='object')"
      ]
     },
     "execution_count": 81,
     "metadata": {},
     "output_type": "execute_result"
    }
   ],
   "source": [
    "#drop 'state_failed' columns\n",
    "data=data.drop(labels='state_failed', axis=1)\n",
    "data.columns"
   ]
  },
  {
   "cell_type": "code",
   "execution_count": 82,
   "metadata": {},
   "outputs": [
    {
     "data": {
      "text/plain": [
       "Index(['ID', 'name', 'category', 'main_category', 'currency', 'deadline',\n",
       "       'goal', 'launched', 'pledged', 'backers', 'country', 'usd_pledged',\n",
       "       'usd_pledged_real', 'usd_goal_real', 'successful'],\n",
       "      dtype='object')"
      ]
     },
     "execution_count": 82,
     "metadata": {},
     "output_type": "execute_result"
    }
   ],
   "source": [
    "#rename 'state_successful' to 'successful' and 'usd pledged' to 'usd_pledged'  \n",
    "success_rename={'usd pledged':'usd_pledged','state_successful':'successful'}\n",
    "data.rename(mapper=success_rename, axis=1, inplace=True)\n",
    "data.columns"
   ]
  },
  {
   "cell_type": "markdown",
   "metadata": {},
   "source": [
    "Our target variable is now named 'successful'."
   ]
  },
  {
   "cell_type": "markdown",
   "metadata": {},
   "source": [
    "### 'category' and 'main category' features"
   ]
  },
  {
   "cell_type": "code",
   "execution_count": 83,
   "metadata": {},
   "outputs": [
    {
     "data": {
      "text/plain": [
       "159"
      ]
     },
     "execution_count": 83,
     "metadata": {},
     "output_type": "execute_result"
    }
   ],
   "source": [
    "unique_categories=data['category'].unique()\n",
    "len(unique_categories)"
   ]
  },
  {
   "cell_type": "code",
   "execution_count": 84,
   "metadata": {},
   "outputs": [
    {
     "data": {
      "text/plain": [
       "Film & Video    56503\n",
       "Music           45801\n",
       "Publishing      35413\n",
       "Games           28520\n",
       "Technology      27046\n",
       "Art             25640\n",
       "Design          25363\n",
       "Food            22054\n",
       "Fashion         19774\n",
       "Theater         10242\n",
       "Comics           9878\n",
       "Photography      9689\n",
       "Crafts           7818\n",
       "Journalism       4148\n",
       "Dance            3573\n",
       "Name: main_category, dtype: int64"
      ]
     },
     "execution_count": 84,
     "metadata": {},
     "output_type": "execute_result"
    }
   ],
   "source": [
    "data['main_category'].value_counts()"
   ]
  },
  {
   "cell_type": "code",
   "execution_count": 85,
   "metadata": {},
   "outputs": [
    {
     "data": {
      "text/plain": [
       "<matplotlib.axes._subplots.AxesSubplot at 0x2318614a788>"
      ]
     },
     "execution_count": 85,
     "metadata": {},
     "output_type": "execute_result"
    },
    {
     "data": {
      "image/png": "[encoded data removed]",
      "text/plain": [
       "<Figure size 720x432 with 1 Axes>"
      ]
     },
     "metadata": {
      "needs_background": "light"
     },
     "output_type": "display_data"
    }
   ],
   "source": [
    "import seaborn as sns\n",
    "\n",
    "plt.figure(figsize=(10,6))\n",
    "sns.barplot(x=data['main_category'].value_counts(), y=data['main_category'].value_counts().index)"
   ]
  },
  {
   "cell_type": "markdown",
   "metadata": {},
   "source": [
    "It would be interesting to see percentages of successful projects by main categories."
   ]
  },
  {
   "cell_type": "code",
   "execution_count": 86,
   "metadata": {},
   "outputs": [],
   "source": [
    "# value counts of main categories as dataframe\n",
    "all_grouped=data['main_category'].value_counts().reset_index()\n",
    "\n",
    "all_grouped=all_grouped.sort_values('index')\n",
    "\n",
    "# rename column to 'total'\n",
    "rename_category={'main_category':'total'}\n",
    "\n",
    "all_grouped.rename(mapper=rename_category, axis=1, inplace=True)"
   ]
  },
  {
   "cell_type": "code",
   "execution_count": 87,
   "metadata": {},
   "outputs": [],
   "source": [
    "# only successful projects grouped by categories (returned as dataframe)\n",
    "\n",
    "only_success=data['main_category'][data['successful']==1].value_counts().reset_index()\n",
    "\n",
    "# sort by categories\n",
    "rename_success={'main_category':'successful'}\n",
    "only_success=only_success.sort_values('index').rename(mapper=rename_success, axis=1)"
   ]
  },
  {
   "cell_type": "code",
   "execution_count": 88,
   "metadata": {},
   "outputs": [],
   "source": [
    "# merge all_grouped and only_success dataframes\n",
    "projects_success_rate=all_grouped.merge(only_success, on='index')"
   ]
  },
  {
   "cell_type": "code",
   "execution_count": 89,
   "metadata": {},
   "outputs": [
    {
     "data": {
      "text/html": [
       "<div>\n",
       "<style scoped>\n",
       "    .dataframe tbody tr th:only-of-type {\n",
       "        vertical-align: middle;\n",
       "    }\n",
       "\n",
       "    .dataframe tbody tr th {\n",
       "        vertical-align: top;\n",
       "    }\n",
       "\n",
       "    .dataframe thead th {\n",
       "        text-align: right;\n",
       "    }\n",
       "</style>\n",
       "<table border=\"1\" class=\"dataframe\">\n",
       "  <thead>\n",
       "    <tr style=\"text-align: right;\">\n",
       "      <th></th>\n",
       "      <th>index</th>\n",
       "      <th>total</th>\n",
       "      <th>successful</th>\n",
       "      <th>success_ratio</th>\n",
       "    </tr>\n",
       "  </thead>\n",
       "  <tbody>\n",
       "    <tr>\n",
       "      <th>3</th>\n",
       "      <td>Dance</td>\n",
       "      <td>3573</td>\n",
       "      <td>2338</td>\n",
       "      <td>0.654352</td>\n",
       "    </tr>\n",
       "    <tr>\n",
       "      <th>14</th>\n",
       "      <td>Theater</td>\n",
       "      <td>10242</td>\n",
       "      <td>6534</td>\n",
       "      <td>0.637961</td>\n",
       "    </tr>\n",
       "    <tr>\n",
       "      <th>1</th>\n",
       "      <td>Comics</td>\n",
       "      <td>9878</td>\n",
       "      <td>5842</td>\n",
       "      <td>0.591415</td>\n",
       "    </tr>\n",
       "    <tr>\n",
       "      <th>10</th>\n",
       "      <td>Music</td>\n",
       "      <td>45801</td>\n",
       "      <td>24105</td>\n",
       "      <td>0.526299</td>\n",
       "    </tr>\n",
       "    <tr>\n",
       "      <th>0</th>\n",
       "      <td>Art</td>\n",
       "      <td>25640</td>\n",
       "      <td>11510</td>\n",
       "      <td>0.448908</td>\n",
       "    </tr>\n",
       "    <tr>\n",
       "      <th>8</th>\n",
       "      <td>Games</td>\n",
       "      <td>28520</td>\n",
       "      <td>12518</td>\n",
       "      <td>0.438920</td>\n",
       "    </tr>\n",
       "    <tr>\n",
       "      <th>6</th>\n",
       "      <td>Film &amp; Video</td>\n",
       "      <td>56503</td>\n",
       "      <td>23612</td>\n",
       "      <td>0.417889</td>\n",
       "    </tr>\n",
       "    <tr>\n",
       "      <th>4</th>\n",
       "      <td>Design</td>\n",
       "      <td>25363</td>\n",
       "      <td>10549</td>\n",
       "      <td>0.415921</td>\n",
       "    </tr>\n",
       "    <tr>\n",
       "      <th>12</th>\n",
       "      <td>Publishing</td>\n",
       "      <td>35413</td>\n",
       "      <td>12300</td>\n",
       "      <td>0.347330</td>\n",
       "    </tr>\n",
       "    <tr>\n",
       "      <th>11</th>\n",
       "      <td>Photography</td>\n",
       "      <td>9689</td>\n",
       "      <td>3305</td>\n",
       "      <td>0.341108</td>\n",
       "    </tr>\n",
       "    <tr>\n",
       "      <th>5</th>\n",
       "      <td>Fashion</td>\n",
       "      <td>19774</td>\n",
       "      <td>5593</td>\n",
       "      <td>0.282846</td>\n",
       "    </tr>\n",
       "    <tr>\n",
       "      <th>7</th>\n",
       "      <td>Food</td>\n",
       "      <td>22054</td>\n",
       "      <td>6085</td>\n",
       "      <td>0.275914</td>\n",
       "    </tr>\n",
       "    <tr>\n",
       "      <th>2</th>\n",
       "      <td>Crafts</td>\n",
       "      <td>7818</td>\n",
       "      <td>2115</td>\n",
       "      <td>0.270530</td>\n",
       "    </tr>\n",
       "    <tr>\n",
       "      <th>9</th>\n",
       "      <td>Journalism</td>\n",
       "      <td>4148</td>\n",
       "      <td>1012</td>\n",
       "      <td>0.243973</td>\n",
       "    </tr>\n",
       "    <tr>\n",
       "      <th>13</th>\n",
       "      <td>Technology</td>\n",
       "      <td>27046</td>\n",
       "      <td>6433</td>\n",
       "      <td>0.237854</td>\n",
       "    </tr>\n",
       "  </tbody>\n",
       "</table>\n",
       "</div>"
      ],
      "text/plain": [
       "           index  total  successful  success_ratio\n",
       "3          Dance   3573        2338       0.654352\n",
       "14       Theater  10242        6534       0.637961\n",
       "1         Comics   9878        5842       0.591415\n",
       "10         Music  45801       24105       0.526299\n",
       "0            Art  25640       11510       0.448908\n",
       "8          Games  28520       12518       0.438920\n",
       "6   Film & Video  56503       23612       0.417889\n",
       "4         Design  25363       10549       0.415921\n",
       "12    Publishing  35413       12300       0.347330\n",
       "11   Photography   9689        3305       0.341108\n",
       "5        Fashion  19774        5593       0.282846\n",
       "7           Food  22054        6085       0.275914\n",
       "2         Crafts   7818        2115       0.270530\n",
       "9     Journalism   4148        1012       0.243973\n",
       "13    Technology  27046        6433       0.237854"
      ]
     },
     "execution_count": 89,
     "metadata": {},
     "output_type": "execute_result"
    }
   ],
   "source": [
    "# add new column which shows success ratio of projects by categories\n",
    "projects_success_rate['success_ratio']=projects_success_rate['successful']/projects_success_rate['total']\n",
    "\n",
    "projects_success_rate.sort_values('success_ratio', ascending=False)"
   ]
  },
  {
   "cell_type": "markdown",
   "metadata": {},
   "source": [
    "It looks like best chances of project being successful and being funded have projects in dance, theater, comics and music categories. Notice that all this categories have one thing in common, they all could fall under one big umbrella called 'entertainment'.\n",
    "\n",
    "Least chances of project being funded have projects in technology and journalism."
   ]
  },
  {
   "cell_type": "markdown",
   "metadata": {},
   "source": [
    "### 'country' and 'currency' features"
   ]
  },
  {
   "cell_type": "code",
   "execution_count": 90,
   "metadata": {},
   "outputs": [
    {
     "data": {
      "text/plain": [
       "US    261358\n",
       "GB     29453\n",
       "CA     12370\n",
       "AU      6616\n",
       "DE      3436\n",
       "FR      2520\n",
       "NL      2411\n",
       "IT      2369\n",
       "ES      1873\n",
       "SE      1509\n",
       "MX      1411\n",
       "NZ      1274\n",
       "DK       926\n",
       "IE       683\n",
       "CH       652\n",
       "NO       582\n",
       "BE       523\n",
       "AT       485\n",
       "HK       477\n",
       "SG       454\n",
       "LU        57\n",
       "JP        23\n",
       "Name: country, dtype: int64"
      ]
     },
     "execution_count": 90,
     "metadata": {},
     "output_type": "execute_result"
    }
   ],
   "source": [
    "countries=data['country'].value_counts()\n",
    "countries"
   ]
  },
  {
   "cell_type": "markdown",
   "metadata": {},
   "source": [
    "As expected, the most projects are located in the US, in fact, US has more projects than rest of the countries combined. Let's see what is success rate of projects by different countries."
   ]
  },
  {
   "cell_type": "code",
   "execution_count": 91,
   "metadata": {},
   "outputs": [
    {
     "data": {
      "text/html": [
       "<div>\n",
       "<style scoped>\n",
       "    .dataframe tbody tr th:only-of-type {\n",
       "        vertical-align: middle;\n",
       "    }\n",
       "\n",
       "    .dataframe tbody tr th {\n",
       "        vertical-align: top;\n",
       "    }\n",
       "\n",
       "    .dataframe thead th {\n",
       "        text-align: right;\n",
       "    }\n",
       "</style>\n",
       "<table border=\"1\" class=\"dataframe\">\n",
       "  <thead>\n",
       "    <tr style=\"text-align: right;\">\n",
       "      <th>successful</th>\n",
       "      <th>0</th>\n",
       "      <th>1</th>\n",
       "      <th>success ratio</th>\n",
       "    </tr>\n",
       "    <tr>\n",
       "      <th>country</th>\n",
       "      <th></th>\n",
       "      <th></th>\n",
       "      <th></th>\n",
       "    </tr>\n",
       "  </thead>\n",
       "  <tbody>\n",
       "    <tr>\n",
       "      <th>HK</th>\n",
       "      <td>261</td>\n",
       "      <td>216</td>\n",
       "      <td>0.452830</td>\n",
       "    </tr>\n",
       "    <tr>\n",
       "      <th>US</th>\n",
       "      <td>152059</td>\n",
       "      <td>109299</td>\n",
       "      <td>0.418196</td>\n",
       "    </tr>\n",
       "    <tr>\n",
       "      <th>GB</th>\n",
       "      <td>17386</td>\n",
       "      <td>12067</td>\n",
       "      <td>0.409704</td>\n",
       "    </tr>\n",
       "    <tr>\n",
       "      <th>SG</th>\n",
       "      <td>276</td>\n",
       "      <td>178</td>\n",
       "      <td>0.392070</td>\n",
       "    </tr>\n",
       "    <tr>\n",
       "      <th>DK</th>\n",
       "      <td>566</td>\n",
       "      <td>360</td>\n",
       "      <td>0.388769</td>\n",
       "    </tr>\n",
       "    <tr>\n",
       "      <th>FR</th>\n",
       "      <td>1612</td>\n",
       "      <td>908</td>\n",
       "      <td>0.360317</td>\n",
       "    </tr>\n",
       "    <tr>\n",
       "      <th>NZ</th>\n",
       "      <td>826</td>\n",
       "      <td>448</td>\n",
       "      <td>0.351648</td>\n",
       "    </tr>\n",
       "    <tr>\n",
       "      <th>SE</th>\n",
       "      <td>1000</td>\n",
       "      <td>509</td>\n",
       "      <td>0.337309</td>\n",
       "    </tr>\n",
       "    <tr>\n",
       "      <th>CA</th>\n",
       "      <td>8236</td>\n",
       "      <td>4134</td>\n",
       "      <td>0.334196</td>\n",
       "    </tr>\n",
       "    <tr>\n",
       "      <th>LU</th>\n",
       "      <td>38</td>\n",
       "      <td>19</td>\n",
       "      <td>0.333333</td>\n",
       "    </tr>\n",
       "    <tr>\n",
       "      <th>JP</th>\n",
       "      <td>16</td>\n",
       "      <td>7</td>\n",
       "      <td>0.304348</td>\n",
       "    </tr>\n",
       "    <tr>\n",
       "      <th>AU</th>\n",
       "      <td>4606</td>\n",
       "      <td>2010</td>\n",
       "      <td>0.303809</td>\n",
       "    </tr>\n",
       "    <tr>\n",
       "      <th>IE</th>\n",
       "      <td>476</td>\n",
       "      <td>207</td>\n",
       "      <td>0.303075</td>\n",
       "    </tr>\n",
       "    <tr>\n",
       "      <th>BE</th>\n",
       "      <td>371</td>\n",
       "      <td>152</td>\n",
       "      <td>0.290631</td>\n",
       "    </tr>\n",
       "    <tr>\n",
       "      <th>CH</th>\n",
       "      <td>465</td>\n",
       "      <td>187</td>\n",
       "      <td>0.286810</td>\n",
       "    </tr>\n",
       "    <tr>\n",
       "      <th>MX</th>\n",
       "      <td>1015</td>\n",
       "      <td>396</td>\n",
       "      <td>0.280652</td>\n",
       "    </tr>\n",
       "    <tr>\n",
       "      <th>NO</th>\n",
       "      <td>420</td>\n",
       "      <td>162</td>\n",
       "      <td>0.278351</td>\n",
       "    </tr>\n",
       "    <tr>\n",
       "      <th>DE</th>\n",
       "      <td>2499</td>\n",
       "      <td>937</td>\n",
       "      <td>0.272701</td>\n",
       "    </tr>\n",
       "    <tr>\n",
       "      <th>ES</th>\n",
       "      <td>1381</td>\n",
       "      <td>492</td>\n",
       "      <td>0.262680</td>\n",
       "    </tr>\n",
       "    <tr>\n",
       "      <th>NL</th>\n",
       "      <td>1794</td>\n",
       "      <td>617</td>\n",
       "      <td>0.255910</td>\n",
       "    </tr>\n",
       "    <tr>\n",
       "      <th>AT</th>\n",
       "      <td>378</td>\n",
       "      <td>107</td>\n",
       "      <td>0.220619</td>\n",
       "    </tr>\n",
       "    <tr>\n",
       "      <th>IT</th>\n",
       "      <td>1930</td>\n",
       "      <td>439</td>\n",
       "      <td>0.185310</td>\n",
       "    </tr>\n",
       "  </tbody>\n",
       "</table>\n",
       "</div>"
      ],
      "text/plain": [
       "successful       0       1  success ratio\n",
       "country                                  \n",
       "HK             261     216       0.452830\n",
       "US          152059  109299       0.418196\n",
       "GB           17386   12067       0.409704\n",
       "SG             276     178       0.392070\n",
       "DK             566     360       0.388769\n",
       "FR            1612     908       0.360317\n",
       "NZ             826     448       0.351648\n",
       "SE            1000     509       0.337309\n",
       "CA            8236    4134       0.334196\n",
       "LU              38      19       0.333333\n",
       "JP              16       7       0.304348\n",
       "AU            4606    2010       0.303809\n",
       "IE             476     207       0.303075\n",
       "BE             371     152       0.290631\n",
       "CH             465     187       0.286810\n",
       "MX            1015     396       0.280652\n",
       "NO             420     162       0.278351\n",
       "DE            2499     937       0.272701\n",
       "ES            1381     492       0.262680\n",
       "NL            1794     617       0.255910\n",
       "AT             378     107       0.220619\n",
       "IT            1930     439       0.185310"
      ]
     },
     "execution_count": 91,
     "metadata": {},
     "output_type": "execute_result"
    }
   ],
   "source": [
    "crosst = pd.crosstab(data['country'],data['successful'])\n",
    "crosst['success ratio'] = crosst[1]/crosst.sum(axis=1)\n",
    "crosst.sort_values(by=['success ratio'],inplace=True,ascending=False)\n",
    "crosst"
   ]
  },
  {
   "cell_type": "markdown",
   "metadata": {},
   "source": [
    "It look like projects from US have good chances of being successful. Top 5 countries by success ratio are HK (Hong Kong), US (United States), GB (Great Britan), SG (Singapore) and DK (Denmark).\n",
    "\n",
    "Let's see if 'currency' column relates to 'country' column (value counts should return approximately equal counts)."
   ]
  },
  {
   "cell_type": "code",
   "execution_count": 92,
   "metadata": {},
   "outputs": [
    {
     "data": {
      "text/plain": [
       "USD    261358\n",
       "GBP     29453\n",
       "EUR     14357\n",
       "CAD     12370\n",
       "AUD      6616\n",
       "SEK      1509\n",
       "MXN      1411\n",
       "NZD      1274\n",
       "DKK       926\n",
       "CHF       652\n",
       "NOK       582\n",
       "HKD       477\n",
       "SGD       454\n",
       "JPY        23\n",
       "Name: currency, dtype: int64"
      ]
     },
     "execution_count": 92,
     "metadata": {},
     "output_type": "execute_result"
    }
   ],
   "source": [
    "currencies=data['currency'].value_counts()\n",
    "\n",
    "currencies"
   ]
  },
  {
   "cell_type": "markdown",
   "metadata": {},
   "source": [
    "We can see there are less currencies than countries in our dataframe. We can conclude that some countries are using same currency. This is the case with euro countries which are using their common currency EUR."
   ]
  },
  {
   "cell_type": "markdown",
   "metadata": {},
   "source": [
    "### 'backers' feature"
   ]
  },
  {
   "cell_type": "code",
   "execution_count": 93,
   "metadata": {},
   "outputs": [
    {
     "data": {
      "text/plain": [
       "count    331462.000000\n",
       "mean        116.456315\n",
       "std         965.732911\n",
       "min           0.000000\n",
       "25%           2.000000\n",
       "50%          15.000000\n",
       "75%          63.000000\n",
       "max      219382.000000\n",
       "Name: backers, dtype: float64"
      ]
     },
     "execution_count": 93,
     "metadata": {},
     "output_type": "execute_result"
    }
   ],
   "source": [
    "data['backers'].describe()"
   ]
  },
  {
   "cell_type": "code",
   "execution_count": 94,
   "metadata": {},
   "outputs": [
    {
     "data": {
      "text/plain": [
       "{'whiskers': [<matplotlib.lines.Line2D at 0x2318cdd8488>,\n",
       "  <matplotlib.lines.Line2D at 0x2318cde0ec8>],\n",
       " 'caps': [<matplotlib.lines.Line2D at 0x2318cde9ec8>,\n",
       "  <matplotlib.lines.Line2D at 0x2318cde9bc8>],\n",
       " 'boxes': [<matplotlib.lines.Line2D at 0x2318cde0d08>],\n",
       " 'medians': [<matplotlib.lines.Line2D at 0x2318cdefcc8>],\n",
       " 'fliers': [<matplotlib.lines.Line2D at 0x2318cdefdc8>],\n",
       " 'means': []}"
      ]
     },
     "execution_count": 94,
     "metadata": {},
     "output_type": "execute_result"
    },
    {
     "data": {
      "image/png": "[encoded data removed]",
      "text/plain": [
       "<Figure size 432x288 with 1 Axes>"
      ]
     },
     "metadata": {
      "needs_background": "light"
     },
     "output_type": "display_data"
    }
   ],
   "source": [
    "#visualize outliers with boxplot\n",
    "plt.boxplot(data['backers'])"
   ]
  },
  {
   "cell_type": "markdown",
   "metadata": {},
   "source": [
    "We will set our upper threshold and drop all values that are gretaer than that threshold (drop outliers)."
   ]
  },
  {
   "cell_type": "code",
   "execution_count": 95,
   "metadata": {},
   "outputs": [
    {
     "data": {
      "text/plain": [
       "12647.290499999595"
      ]
     },
     "execution_count": 95,
     "metadata": {},
     "output_type": "execute_result"
    }
   ],
   "source": [
    "#set max_threshold\n",
    "max_threshold=data['backers'].quantile(0.9995)\n",
    "max_threshold"
   ]
  },
  {
   "cell_type": "code",
   "execution_count": 96,
   "metadata": {},
   "outputs": [
    {
     "data": {
      "text/plain": [
       "(166, 15)"
      ]
     },
     "execution_count": 96,
     "metadata": {},
     "output_type": "execute_result"
    }
   ],
   "source": [
    "#how many outliers do we have (values greater than max_threshold)\n",
    "outliers=data[data.backers>max_threshold]\n",
    "outliers.shape"
   ]
  },
  {
   "cell_type": "code",
   "execution_count": 97,
   "metadata": {},
   "outputs": [
    {
     "data": {
      "text/plain": [
       "count    331296.000000\n",
       "mean        102.062929\n",
       "std         432.965752\n",
       "min           0.000000\n",
       "25%           2.000000\n",
       "50%          15.000000\n",
       "75%          63.000000\n",
       "max       12626.000000\n",
       "Name: backers, dtype: float64"
      ]
     },
     "execution_count": 97,
     "metadata": {},
     "output_type": "execute_result"
    }
   ],
   "source": [
    "#remove outliers from dataset\n",
    "data=data[data.backers<max_threshold]\n",
    "\n",
    "#recalculate summary statistics\n",
    "data['backers'].describe()"
   ]
  },
  {
   "cell_type": "code",
   "execution_count": 98,
   "metadata": {},
   "outputs": [
    {
     "data": {
      "text/plain": [
       "{'whiskers': [<matplotlib.lines.Line2D at 0x2318ce37748>,\n",
       "  <matplotlib.lines.Line2D at 0x2318ce48f08>],\n",
       " 'caps': [<matplotlib.lines.Line2D at 0x2318ce48b08>,\n",
       "  <matplotlib.lines.Line2D at 0x2318ce4eb88>],\n",
       " 'boxes': [<matplotlib.lines.Line2D at 0x2318ce48288>],\n",
       " 'medians': [<matplotlib.lines.Line2D at 0x2318ce4ec88>],\n",
       " 'fliers': [<matplotlib.lines.Line2D at 0x2318ce4ed48>],\n",
       " 'means': []}"
      ]
     },
     "execution_count": 98,
     "metadata": {},
     "output_type": "execute_result"
    },
    {
     "data": {
      "image/png": "[encoded data removed]",
      "text/plain": [
       "<Figure size 432x288 with 1 Axes>"
      ]
     },
     "metadata": {
      "needs_background": "light"
     },
     "output_type": "display_data"
    }
   ],
   "source": [
    "#boxplot after removing outliers\n",
    "plt.boxplot(data['backers'])"
   ]
  },
  {
   "cell_type": "markdown",
   "metadata": {},
   "source": [
    "### 'launched' and 'deadline' features"
   ]
  },
  {
   "cell_type": "code",
   "execution_count": 99,
   "metadata": {},
   "outputs": [
    {
     "data": {
      "text/plain": [
       "0    2015-08-11 12:12:28\n",
       "1    2017-09-02 04:43:57\n",
       "2    2013-01-12 00:20:50\n",
       "3    2012-03-17 03:24:11\n",
       "5    2016-02-26 13:38:27\n",
       "Name: launched, dtype: object"
      ]
     },
     "execution_count": 99,
     "metadata": {},
     "output_type": "execute_result"
    }
   ],
   "source": [
    "# inspect 'launched' column \n",
    "data['launched'].head(5)"
   ]
  },
  {
   "cell_type": "markdown",
   "metadata": {},
   "source": [
    "Data type object of 'launched' column is object which means our column isn't being recognized as a date. We will strip hours, minutes and seconds and convert data with pd.to_datetime() so it could be recognized as a date."
   ]
  },
  {
   "cell_type": "code",
   "execution_count": 100,
   "metadata": {},
   "outputs": [],
   "source": [
    "# strip hours, minutes and seconds\n",
    "data['launched']=data['launched'].str[:10]\n",
    "\n",
    "# convert 'launched' to datetime\n",
    "data['launched'] = pd.to_datetime(data['launched'], format = '%Y-%m-%d')"
   ]
  },
  {
   "cell_type": "code",
   "execution_count": 101,
   "metadata": {},
   "outputs": [
    {
     "data": {
      "text/plain": [
       "366715   2016-07-26\n",
       "130618   2010-03-03\n",
       "138947   2013-09-28\n",
       "320239   2013-01-29\n",
       "4701     2015-12-03\n",
       "Name: launched, dtype: datetime64[ns]"
      ]
     },
     "execution_count": 101,
     "metadata": {},
     "output_type": "execute_result"
    }
   ],
   "source": [
    "data['launched'].sample(5)"
   ]
  },
  {
   "cell_type": "code",
   "execution_count": 102,
   "metadata": {},
   "outputs": [
    {
     "data": {
      "text/plain": [
       "0    2015-10-09\n",
       "1    2017-11-01\n",
       "2    2013-02-26\n",
       "3    2012-04-16\n",
       "5    2016-04-01\n",
       "Name: deadline, dtype: object"
      ]
     },
     "execution_count": 102,
     "metadata": {},
     "output_type": "execute_result"
    }
   ],
   "source": [
    "# inspect 'deadline' column\n",
    "data['deadline'].head(5)"
   ]
  },
  {
   "cell_type": "code",
   "execution_count": 103,
   "metadata": {},
   "outputs": [],
   "source": [
    "# convert 'deadline' to datetime\n",
    "data['deadline'] = pd.to_datetime(data['deadline'], format = '%Y-%m-%d')"
   ]
  },
  {
   "cell_type": "code",
   "execution_count": 104,
   "metadata": {},
   "outputs": [
    {
     "data": {
      "text/plain": [
       "0   2015-10-09\n",
       "1   2017-11-01\n",
       "2   2013-02-26\n",
       "3   2012-04-16\n",
       "5   2016-04-01\n",
       "Name: deadline, dtype: datetime64[ns]"
      ]
     },
     "execution_count": 104,
     "metadata": {},
     "output_type": "execute_result"
    }
   ],
   "source": [
    "data['deadline'].head()"
   ]
  },
  {
   "cell_type": "markdown",
   "metadata": {},
   "source": [
    "Now we have both 'launched' and 'deadline' in the right format. We can create new column called 'campaign_duration' which will be showing how many days campaign was active. It will be interesting to see if project which are active for longer period of time have better chances of being funded in compariosn with shorter projects."
   ]
  },
  {
   "cell_type": "code",
   "execution_count": 105,
   "metadata": {},
   "outputs": [
    {
     "data": {
      "text/plain": [
       "326713     7\n",
       "309249    33\n",
       "72457     33\n",
       "187842    30\n",
       "183162    30\n",
       "366855    30\n",
       "37454     30\n",
       "304722    30\n",
       "89894     30\n",
       "167409    25\n",
       "Name: campaign_duration, dtype: int64"
      ]
     },
     "execution_count": 105,
     "metadata": {},
     "output_type": "execute_result"
    }
   ],
   "source": [
    "# create new column 'campaign_duration' (in days)\n",
    "data['campaign_duration']=(data['deadline']-data['launched']).apply(lambda x: x.days)\n",
    "\n",
    "data['campaign_duration'].sample(10)"
   ]
  },
  {
   "cell_type": "code",
   "execution_count": 106,
   "metadata": {},
   "outputs": [
    {
     "data": {
      "text/plain": [
       "count    331296.000000\n",
       "mean         33.955870\n",
       "std          12.715659\n",
       "min           1.000000\n",
       "25%          30.000000\n",
       "50%          30.000000\n",
       "75%          36.000000\n",
       "max          92.000000\n",
       "Name: campaign_duration, dtype: float64"
      ]
     },
     "execution_count": 106,
     "metadata": {},
     "output_type": "execute_result"
    }
   ],
   "source": [
    "# summary statistics for 'campaign_duration' column\n",
    "data['campaign_duration'].describe()"
   ]
  },
  {
   "cell_type": "code",
   "execution_count": 107,
   "metadata": {},
   "outputs": [
    {
     "data": {
      "image/png": "[encoded data removed]",
      "text/plain": [
       "<Figure size 432x288 with 1 Axes>"
      ]
     },
     "metadata": {
      "needs_background": "light"
     },
     "output_type": "display_data"
    }
   ],
   "source": [
    "# histogram to observe 'campaign_duration' distribution\n",
    "plt.hist(data['campaign_duration'])\n",
    "plt.xlabel('Duration (days)')\n",
    "plt.ylabel('Count')\n",
    "plt.show()"
   ]
  },
  {
   "cell_type": "markdown",
   "metadata": {},
   "source": [
    "\"Projects on Kickstarter can last anywhere from 1 - 60 days. We've done some research, and found that projects lasting any longer are rarely successful. \n",
    "\n",
    "We recommend setting your campaign at 30 days or less. Campaigns with shorter durations have higher success rates, and create a helpful sense of urgency around your project.\"  - Kickstarter Support\n",
    "\n",
    "We will not remove project over 60 day because maybe in some point of time in the past there was possible to campaign project for more than 60 days. Let's check how many data would we lose if we decided to remove project over 60 days."
   ]
  },
  {
   "cell_type": "code",
   "execution_count": 108,
   "metadata": {},
   "outputs": [
    {
     "data": {
      "text/plain": [
       "4824"
      ]
     },
     "execution_count": 108,
     "metadata": {},
     "output_type": "execute_result"
    }
   ],
   "source": [
    "data[data.campaign_duration>60].shape[0]"
   ]
  },
  {
   "cell_type": "markdown",
   "metadata": {},
   "source": [
    "### money features"
   ]
  },
  {
   "cell_type": "markdown",
   "metadata": {},
   "source": [
    "Money features: 'goal','usd_goal_real', 'pledged', 'usd_pledged_real' and 'usd_pledged' \n",
    "\n",
    "Explanations of columns:\n",
    "- usd_pledged: conversion in US dollars of the pledged column (conversion done by kickstarter)\n",
    "\n",
    "- usd_pledged_real: conversion in US dollars of the pledged column (conversion from Fixer.io API)\n",
    "\n",
    "- usd_goal_real: conversion in US dollars of the goal column (conversion from Fixer.io API)"
   ]
  },
  {
   "cell_type": "code",
   "execution_count": 109,
   "metadata": {
    "scrolled": true
   },
   "outputs": [
    {
     "data": {
      "text/html": [
       "<div>\n",
       "<style scoped>\n",
       "    .dataframe tbody tr th:only-of-type {\n",
       "        vertical-align: middle;\n",
       "    }\n",
       "\n",
       "    .dataframe tbody tr th {\n",
       "        vertical-align: top;\n",
       "    }\n",
       "\n",
       "    .dataframe thead th {\n",
       "        text-align: right;\n",
       "    }\n",
       "</style>\n",
       "<table border=\"1\" class=\"dataframe\">\n",
       "  <thead>\n",
       "    <tr style=\"text-align: right;\">\n",
       "      <th></th>\n",
       "      <th>goal</th>\n",
       "      <th>usd_goal_real</th>\n",
       "      <th>pledged</th>\n",
       "      <th>usd_pledged</th>\n",
       "      <th>usd_pledged_real</th>\n",
       "    </tr>\n",
       "  </thead>\n",
       "  <tbody>\n",
       "    <tr>\n",
       "      <th>count</th>\n",
       "      <td>3.312960e+05</td>\n",
       "      <td>3.312960e+05</td>\n",
       "      <td>3.312960e+05</td>\n",
       "      <td>3.312960e+05</td>\n",
       "      <td>3.312960e+05</td>\n",
       "    </tr>\n",
       "    <tr>\n",
       "      <th>mean</th>\n",
       "      <td>4.413240e+04</td>\n",
       "      <td>4.138356e+04</td>\n",
       "      <td>9.360904e+03</td>\n",
       "      <td>6.754318e+03</td>\n",
       "      <td>8.705996e+03</td>\n",
       "    </tr>\n",
       "    <tr>\n",
       "      <th>std</th>\n",
       "      <td>1.118489e+06</td>\n",
       "      <td>1.109492e+06</td>\n",
       "      <td>5.984349e+04</td>\n",
       "      <td>4.110835e+04</td>\n",
       "      <td>5.014222e+04</td>\n",
       "    </tr>\n",
       "    <tr>\n",
       "      <th>min</th>\n",
       "      <td>1.000000e-02</td>\n",
       "      <td>1.000000e-02</td>\n",
       "      <td>0.000000e+00</td>\n",
       "      <td>0.000000e+00</td>\n",
       "      <td>0.000000e+00</td>\n",
       "    </tr>\n",
       "    <tr>\n",
       "      <th>25%</th>\n",
       "      <td>2.000000e+03</td>\n",
       "      <td>2.000000e+03</td>\n",
       "      <td>5.000000e+01</td>\n",
       "      <td>2.500000e+01</td>\n",
       "      <td>5.000000e+01</td>\n",
       "    </tr>\n",
       "    <tr>\n",
       "      <th>50%</th>\n",
       "      <td>5.000000e+03</td>\n",
       "      <td>5.000000e+03</td>\n",
       "      <td>7.800000e+02</td>\n",
       "      <td>5.010000e+02</td>\n",
       "      <td>7.853750e+02</td>\n",
       "    </tr>\n",
       "    <tr>\n",
       "      <th>75%</th>\n",
       "      <td>1.500000e+04</td>\n",
       "      <td>1.500000e+04</td>\n",
       "      <td>4.643497e+03</td>\n",
       "      <td>3.413000e+03</td>\n",
       "      <td>4.599000e+03</td>\n",
       "    </tr>\n",
       "    <tr>\n",
       "      <th>max</th>\n",
       "      <td>1.000000e+08</td>\n",
       "      <td>1.663614e+08</td>\n",
       "      <td>1.003530e+07</td>\n",
       "      <td>3.656618e+06</td>\n",
       "      <td>4.236618e+06</td>\n",
       "    </tr>\n",
       "  </tbody>\n",
       "</table>\n",
       "</div>"
      ],
      "text/plain": [
       "               goal  usd_goal_real       pledged   usd_pledged  \\\n",
       "count  3.312960e+05   3.312960e+05  3.312960e+05  3.312960e+05   \n",
       "mean   4.413240e+04   4.138356e+04  9.360904e+03  6.754318e+03   \n",
       "std    1.118489e+06   1.109492e+06  5.984349e+04  4.110835e+04   \n",
       "min    1.000000e-02   1.000000e-02  0.000000e+00  0.000000e+00   \n",
       "25%    2.000000e+03   2.000000e+03  5.000000e+01  2.500000e+01   \n",
       "50%    5.000000e+03   5.000000e+03  7.800000e+02  5.010000e+02   \n",
       "75%    1.500000e+04   1.500000e+04  4.643497e+03  3.413000e+03   \n",
       "max    1.000000e+08   1.663614e+08  1.003530e+07  3.656618e+06   \n",
       "\n",
       "       usd_pledged_real  \n",
       "count      3.312960e+05  \n",
       "mean       8.705996e+03  \n",
       "std        5.014222e+04  \n",
       "min        0.000000e+00  \n",
       "25%        5.000000e+01  \n",
       "50%        7.853750e+02  \n",
       "75%        4.599000e+03  \n",
       "max        4.236618e+06  "
      ]
     },
     "execution_count": 109,
     "metadata": {},
     "output_type": "execute_result"
    }
   ],
   "source": [
    "money_cols=['currency','goal', 'usd_goal_real', 'pledged', 'usd_pledged', 'usd_pledged_real']\n",
    "\n",
    "data[money_cols].describe()"
   ]
  },
  {
   "cell_type": "markdown",
   "metadata": {},
   "source": [
    "We will not consider 'goal' and 'pledged' column. We want to use data converted in US dollars. Therefore, for our analysis we will use columns 'usd_goal_real' (goal converted to US dollars, if currency is USD goal=usd_goal_real) and 'usd_pledged_real' (total amount pledged converted to US dollars)."
   ]
  },
  {
   "cell_type": "code",
   "execution_count": 110,
   "metadata": {},
   "outputs": [
    {
     "data": {
      "text/plain": [
       "150000.0"
      ]
     },
     "execution_count": 110,
     "metadata": {},
     "output_type": "execute_result"
    }
   ],
   "source": [
    "# max threshold for 'usd_goal_real'\n",
    "max_threshold_goal=data['usd_goal_real'].quantile(0.98)\n",
    "max_threshold_goal"
   ]
  },
  {
   "cell_type": "code",
   "execution_count": 111,
   "metadata": {},
   "outputs": [],
   "source": [
    "# remove outliers from 'usd_goal_real'\n",
    "data=data[data['usd_goal_real']<max_threshold_goal]"
   ]
  },
  {
   "cell_type": "code",
   "execution_count": 112,
   "metadata": {},
   "outputs": [
    {
     "data": {
      "text/plain": [
       "count    323889.00000\n",
       "mean      12680.20154\n",
       "std       19689.47255\n",
       "min           0.01000\n",
       "25%        2000.00000\n",
       "50%        5000.00000\n",
       "75%       15000.00000\n",
       "max      149995.00000\n",
       "Name: usd_goal_real, dtype: float64"
      ]
     },
     "execution_count": 112,
     "metadata": {},
     "output_type": "execute_result"
    }
   ],
   "source": [
    "data['usd_goal_real'].describe()"
   ]
  },
  {
   "cell_type": "code",
   "execution_count": 113,
   "metadata": {},
   "outputs": [
    {
     "data": {
      "text/plain": [
       "195001.042"
      ]
     },
     "execution_count": 113,
     "metadata": {},
     "output_type": "execute_result"
    }
   ],
   "source": [
    "# max threshold for 'usd_pledged_real'\n",
    "max_threshold_pledged=data['usd_pledged_real'].quantile(0.995)\n",
    "max_threshold_pledged"
   ]
  },
  {
   "cell_type": "code",
   "execution_count": 114,
   "metadata": {},
   "outputs": [
    {
     "data": {
      "text/plain": [
       "(array([242028.,  42938.,  15307.,  10485.,   3679.,   3492.,   3866.,\n",
       "           740.,    955.,    399.]),\n",
       " array([1.00000000e-02, 1.49995090e+04, 2.99990080e+04, 4.49985070e+04,\n",
       "        5.99980060e+04, 7.49975050e+04, 8.99970040e+04, 1.04996503e+05,\n",
       "        1.19996002e+05, 1.34995501e+05, 1.49995000e+05]),\n",
       " <a list of 10 Patch objects>)"
      ]
     },
     "execution_count": 114,
     "metadata": {},
     "output_type": "execute_result"
    },
    {
     "data": {
      "image/png": "[encoded data removed]",
      "text/plain": [
       "<Figure size 432x288 with 1 Axes>"
      ]
     },
     "metadata": {
      "needs_background": "light"
     },
     "output_type": "display_data"
    }
   ],
   "source": [
    "# plot histogram to see distribution \n",
    "plt.hist(data['usd_goal_real'])"
   ]
  },
  {
   "cell_type": "code",
   "execution_count": 115,
   "metadata": {},
   "outputs": [
    {
     "data": {
      "text/plain": [
       "count    322269.000000\n",
       "mean       5874.447540\n",
       "std       15889.474518\n",
       "min           0.000000\n",
       "25%          50.000000\n",
       "50%         799.000000\n",
       "75%        4508.000000\n",
       "max      194998.550000\n",
       "Name: usd_pledged_real, dtype: float64"
      ]
     },
     "execution_count": 115,
     "metadata": {},
     "output_type": "execute_result"
    }
   ],
   "source": [
    "#remove outliers from 'usd_pledged_real' and calculate summary statistics\n",
    "data=data[data['usd_pledged_real']<max_threshold_pledged]\n",
    "\n",
    "data['usd_pledged_real'].describe()"
   ]
  },
  {
   "cell_type": "code",
   "execution_count": 116,
   "metadata": {},
   "outputs": [
    {
     "data": {
      "text/plain": [
       "(array([2.98636e+05, 1.32800e+04, 4.49900e+03, 2.04900e+03, 1.23900e+03,\n",
       "        9.63000e+02, 5.89000e+02, 4.55000e+02, 3.21000e+02, 2.38000e+02]),\n",
       " array([     0.   ,  19499.855,  38999.71 ,  58499.565,  77999.42 ,\n",
       "         97499.275, 116999.13 , 136498.985, 155998.84 , 175498.695,\n",
       "        194998.55 ]),\n",
       " <a list of 10 Patch objects>)"
      ]
     },
     "execution_count": 116,
     "metadata": {},
     "output_type": "execute_result"
    },
    {
     "data": {
      "image/png": "[encoded data removed]",
      "text/plain": [
       "<Figure size 432x288 with 1 Axes>"
      ]
     },
     "metadata": {
      "needs_background": "light"
     },
     "output_type": "display_data"
    }
   ],
   "source": [
    "# plot histogram to see distribution\n",
    "plt.hist(data['usd_pledged_real'])"
   ]
  },
  {
   "cell_type": "markdown",
   "metadata": {},
   "source": [
    "### Correlations"
   ]
  },
  {
   "cell_type": "markdown",
   "metadata": {},
   "source": [
    "We need to check correlations to avoid multicollinearity of our features."
   ]
  },
  {
   "cell_type": "code",
   "execution_count": 117,
   "metadata": {},
   "outputs": [
    {
     "data": {
      "text/html": [
       "<div>\n",
       "<style scoped>\n",
       "    .dataframe tbody tr th:only-of-type {\n",
       "        vertical-align: middle;\n",
       "    }\n",
       "\n",
       "    .dataframe tbody tr th {\n",
       "        vertical-align: top;\n",
       "    }\n",
       "\n",
       "    .dataframe thead th {\n",
       "        text-align: right;\n",
       "    }\n",
       "</style>\n",
       "<table border=\"1\" class=\"dataframe\">\n",
       "  <thead>\n",
       "    <tr style=\"text-align: right;\">\n",
       "      <th></th>\n",
       "      <th>ID</th>\n",
       "      <th>goal</th>\n",
       "      <th>pledged</th>\n",
       "      <th>backers</th>\n",
       "      <th>usd_pledged</th>\n",
       "      <th>usd_pledged_real</th>\n",
       "      <th>usd_goal_real</th>\n",
       "      <th>successful</th>\n",
       "      <th>campaign_duration</th>\n",
       "    </tr>\n",
       "  </thead>\n",
       "  <tbody>\n",
       "    <tr>\n",
       "      <th>ID</th>\n",
       "      <td>1.000000</td>\n",
       "      <td>0.001266</td>\n",
       "      <td>-0.001450</td>\n",
       "      <td>-0.000936</td>\n",
       "      <td>-0.002180</td>\n",
       "      <td>0.000084</td>\n",
       "      <td>0.001582</td>\n",
       "      <td>-0.000904</td>\n",
       "      <td>0.002622</td>\n",
       "    </tr>\n",
       "    <tr>\n",
       "      <th>goal</th>\n",
       "      <td>0.001266</td>\n",
       "      <td>1.000000</td>\n",
       "      <td>0.305537</td>\n",
       "      <td>0.066566</td>\n",
       "      <td>0.120837</td>\n",
       "      <td>0.136886</td>\n",
       "      <td>0.535581</td>\n",
       "      <td>-0.110315</td>\n",
       "      <td>0.067415</td>\n",
       "    </tr>\n",
       "    <tr>\n",
       "      <th>pledged</th>\n",
       "      <td>-0.001450</td>\n",
       "      <td>0.305537</td>\n",
       "      <td>1.000000</td>\n",
       "      <td>0.544648</td>\n",
       "      <td>0.604381</td>\n",
       "      <td>0.724180</td>\n",
       "      <td>0.186758</td>\n",
       "      <td>0.260334</td>\n",
       "      <td>0.004291</td>\n",
       "    </tr>\n",
       "    <tr>\n",
       "      <th>backers</th>\n",
       "      <td>-0.000936</td>\n",
       "      <td>0.066566</td>\n",
       "      <td>0.544648</td>\n",
       "      <td>1.000000</td>\n",
       "      <td>0.684710</td>\n",
       "      <td>0.759490</td>\n",
       "      <td>0.135815</td>\n",
       "      <td>0.310682</td>\n",
       "      <td>-0.014754</td>\n",
       "    </tr>\n",
       "    <tr>\n",
       "      <th>usd_pledged</th>\n",
       "      <td>-0.002180</td>\n",
       "      <td>0.120837</td>\n",
       "      <td>0.604381</td>\n",
       "      <td>0.684710</td>\n",
       "      <td>1.000000</td>\n",
       "      <td>0.886461</td>\n",
       "      <td>0.257113</td>\n",
       "      <td>0.330542</td>\n",
       "      <td>0.010272</td>\n",
       "    </tr>\n",
       "    <tr>\n",
       "      <th>usd_pledged_real</th>\n",
       "      <td>0.000084</td>\n",
       "      <td>0.136886</td>\n",
       "      <td>0.724180</td>\n",
       "      <td>0.759490</td>\n",
       "      <td>0.886461</td>\n",
       "      <td>1.000000</td>\n",
       "      <td>0.270211</td>\n",
       "      <td>0.360059</td>\n",
       "      <td>0.005644</td>\n",
       "    </tr>\n",
       "    <tr>\n",
       "      <th>usd_goal_real</th>\n",
       "      <td>0.001582</td>\n",
       "      <td>0.535581</td>\n",
       "      <td>0.186758</td>\n",
       "      <td>0.135815</td>\n",
       "      <td>0.257113</td>\n",
       "      <td>0.270211</td>\n",
       "      <td>1.000000</td>\n",
       "      <td>-0.195167</td>\n",
       "      <td>0.117358</td>\n",
       "    </tr>\n",
       "    <tr>\n",
       "      <th>successful</th>\n",
       "      <td>-0.000904</td>\n",
       "      <td>-0.110315</td>\n",
       "      <td>0.260334</td>\n",
       "      <td>0.310682</td>\n",
       "      <td>0.330542</td>\n",
       "      <td>0.360059</td>\n",
       "      <td>-0.195167</td>\n",
       "      <td>1.000000</td>\n",
       "      <td>-0.112544</td>\n",
       "    </tr>\n",
       "    <tr>\n",
       "      <th>campaign_duration</th>\n",
       "      <td>0.002622</td>\n",
       "      <td>0.067415</td>\n",
       "      <td>0.004291</td>\n",
       "      <td>-0.014754</td>\n",
       "      <td>0.010272</td>\n",
       "      <td>0.005644</td>\n",
       "      <td>0.117358</td>\n",
       "      <td>-0.112544</td>\n",
       "      <td>1.000000</td>\n",
       "    </tr>\n",
       "  </tbody>\n",
       "</table>\n",
       "</div>"
      ],
      "text/plain": [
       "                         ID      goal   pledged   backers  usd_pledged  \\\n",
       "ID                 1.000000  0.001266 -0.001450 -0.000936    -0.002180   \n",
       "goal               0.001266  1.000000  0.305537  0.066566     0.120837   \n",
       "pledged           -0.001450  0.305537  1.000000  0.544648     0.604381   \n",
       "backers           -0.000936  0.066566  0.544648  1.000000     0.684710   \n",
       "usd_pledged       -0.002180  0.120837  0.604381  0.684710     1.000000   \n",
       "usd_pledged_real   0.000084  0.136886  0.724180  0.759490     0.886461   \n",
       "usd_goal_real      0.001582  0.535581  0.186758  0.135815     0.257113   \n",
       "successful        -0.000904 -0.110315  0.260334  0.310682     0.330542   \n",
       "campaign_duration  0.002622  0.067415  0.004291 -0.014754     0.010272   \n",
       "\n",
       "                   usd_pledged_real  usd_goal_real  successful  \\\n",
       "ID                         0.000084       0.001582   -0.000904   \n",
       "goal                       0.136886       0.535581   -0.110315   \n",
       "pledged                    0.724180       0.186758    0.260334   \n",
       "backers                    0.759490       0.135815    0.310682   \n",
       "usd_pledged                0.886461       0.257113    0.330542   \n",
       "usd_pledged_real           1.000000       0.270211    0.360059   \n",
       "usd_goal_real              0.270211       1.000000   -0.195167   \n",
       "successful                 0.360059      -0.195167    1.000000   \n",
       "campaign_duration          0.005644       0.117358   -0.112544   \n",
       "\n",
       "                   campaign_duration  \n",
       "ID                          0.002622  \n",
       "goal                        0.067415  \n",
       "pledged                     0.004291  \n",
       "backers                    -0.014754  \n",
       "usd_pledged                 0.010272  \n",
       "usd_pledged_real            0.005644  \n",
       "usd_goal_real               0.117358  \n",
       "successful                 -0.112544  \n",
       "campaign_duration           1.000000  "
      ]
     },
     "execution_count": 117,
     "metadata": {},
     "output_type": "execute_result"
    }
   ],
   "source": [
    "\n",
    "data.corr()"
   ]
  },
  {
   "cell_type": "code",
   "execution_count": 118,
   "metadata": {},
   "outputs": [
    {
     "data": {
      "text/plain": [
       "<matplotlib.axes._subplots.AxesSubplot at 0x2318cf37e88>"
      ]
     },
     "execution_count": 118,
     "metadata": {},
     "output_type": "execute_result"
    },
    {
     "data": {
      "image/png": "[encoded data removed]",
      "text/plain": [
       "<Figure size 720x720 with 2 Axes>"
      ]
     },
     "metadata": {
      "needs_background": "light"
     },
     "output_type": "display_data"
    }
   ],
   "source": [
    "# visualizing correlations \n",
    "plt.figure(figsize=(10,10))\n",
    "sns.heatmap(data.corr(), annot=True, cmap='coolwarm')"
   ]
  },
  {
   "cell_type": "markdown",
   "metadata": {},
   "source": [
    "It looks like everything is OK, we don't have multicollinearity (actually we have, 'usd_pledged_real' and 'usd_pledged' are highly positively correlated, but we already decided earlier that we will predict with 'usd_pledged_real' and 'usd_pledged' will be dropped).\n",
    "\n",
    "Let's drop excess columns and prepare our dataframe for model building."
   ]
  },
  {
   "cell_type": "code",
   "execution_count": 119,
   "metadata": {},
   "outputs": [
    {
     "data": {
      "text/plain": [
       "Index(['ID', 'name', 'category', 'main_category', 'currency', 'deadline',\n",
       "       'goal', 'launched', 'pledged', 'backers', 'country', 'usd_pledged',\n",
       "       'usd_pledged_real', 'usd_goal_real', 'successful', 'campaign_duration'],\n",
       "      dtype='object')"
      ]
     },
     "execution_count": 119,
     "metadata": {},
     "output_type": "execute_result"
    }
   ],
   "source": [
    "data.columns"
   ]
  },
  {
   "cell_type": "code",
   "execution_count": 120,
   "metadata": {},
   "outputs": [],
   "source": [
    "# drop excess columns\n",
    "drop_cols=['ID', 'name', 'category', 'currency', 'deadline', 'goal', 'launched', 'pledged', 'usd_pledged']\n",
    "\n",
    "data=data.drop(drop_cols, axis=1)"
   ]
  },
  {
   "cell_type": "code",
   "execution_count": 121,
   "metadata": {},
   "outputs": [
    {
     "data": {
      "text/plain": [
       "<matplotlib.axes._subplots.AxesSubplot at 0x2318d0738c8>"
      ]
     },
     "execution_count": 121,
     "metadata": {},
     "output_type": "execute_result"
    },
    {
     "data": {
      "image/png": "[encoded data removed]",
      "text/plain": [
       "<Figure size 576x576 with 2 Axes>"
      ]
     },
     "metadata": {
      "needs_background": "light"
     },
     "output_type": "display_data"
    }
   ],
   "source": [
    "plt.figure(figsize=(8,8))\n",
    "sns.heatmap(data.corr(), annot=True, cmap='coolwarm')"
   ]
  },
  {
   "cell_type": "markdown",
   "metadata": {},
   "source": [
    "### Converting categorical variables into dummies"
   ]
  },
  {
   "cell_type": "markdown",
   "metadata": {},
   "source": [
    "We need to transform categorical variables 'main_category' and 'country' into dummy variables."
   ]
  },
  {
   "cell_type": "code",
   "execution_count": 122,
   "metadata": {},
   "outputs": [
    {
     "data": {
      "text/html": [
       "<div>\n",
       "<style scoped>\n",
       "    .dataframe tbody tr th:only-of-type {\n",
       "        vertical-align: middle;\n",
       "    }\n",
       "\n",
       "    .dataframe tbody tr th {\n",
       "        vertical-align: top;\n",
       "    }\n",
       "\n",
       "    .dataframe thead th {\n",
       "        text-align: right;\n",
       "    }\n",
       "</style>\n",
       "<table border=\"1\" class=\"dataframe\">\n",
       "  <thead>\n",
       "    <tr style=\"text-align: right;\">\n",
       "      <th></th>\n",
       "      <th>AU</th>\n",
       "      <th>BE</th>\n",
       "      <th>CA</th>\n",
       "      <th>CH</th>\n",
       "      <th>DE</th>\n",
       "      <th>DK</th>\n",
       "      <th>ES</th>\n",
       "      <th>FR</th>\n",
       "      <th>GB</th>\n",
       "      <th>HK</th>\n",
       "      <th>...</th>\n",
       "      <th>IT</th>\n",
       "      <th>JP</th>\n",
       "      <th>LU</th>\n",
       "      <th>MX</th>\n",
       "      <th>NL</th>\n",
       "      <th>NO</th>\n",
       "      <th>NZ</th>\n",
       "      <th>SE</th>\n",
       "      <th>SG</th>\n",
       "      <th>US</th>\n",
       "    </tr>\n",
       "  </thead>\n",
       "  <tbody>\n",
       "    <tr>\n",
       "      <th>0</th>\n",
       "      <td>0</td>\n",
       "      <td>0</td>\n",
       "      <td>0</td>\n",
       "      <td>0</td>\n",
       "      <td>0</td>\n",
       "      <td>0</td>\n",
       "      <td>0</td>\n",
       "      <td>0</td>\n",
       "      <td>1</td>\n",
       "      <td>0</td>\n",
       "      <td>...</td>\n",
       "      <td>0</td>\n",
       "      <td>0</td>\n",
       "      <td>0</td>\n",
       "      <td>0</td>\n",
       "      <td>0</td>\n",
       "      <td>0</td>\n",
       "      <td>0</td>\n",
       "      <td>0</td>\n",
       "      <td>0</td>\n",
       "      <td>0</td>\n",
       "    </tr>\n",
       "    <tr>\n",
       "      <th>1</th>\n",
       "      <td>0</td>\n",
       "      <td>0</td>\n",
       "      <td>0</td>\n",
       "      <td>0</td>\n",
       "      <td>0</td>\n",
       "      <td>0</td>\n",
       "      <td>0</td>\n",
       "      <td>0</td>\n",
       "      <td>0</td>\n",
       "      <td>0</td>\n",
       "      <td>...</td>\n",
       "      <td>0</td>\n",
       "      <td>0</td>\n",
       "      <td>0</td>\n",
       "      <td>0</td>\n",
       "      <td>0</td>\n",
       "      <td>0</td>\n",
       "      <td>0</td>\n",
       "      <td>0</td>\n",
       "      <td>0</td>\n",
       "      <td>1</td>\n",
       "    </tr>\n",
       "    <tr>\n",
       "      <th>2</th>\n",
       "      <td>0</td>\n",
       "      <td>0</td>\n",
       "      <td>0</td>\n",
       "      <td>0</td>\n",
       "      <td>0</td>\n",
       "      <td>0</td>\n",
       "      <td>0</td>\n",
       "      <td>0</td>\n",
       "      <td>0</td>\n",
       "      <td>0</td>\n",
       "      <td>...</td>\n",
       "      <td>0</td>\n",
       "      <td>0</td>\n",
       "      <td>0</td>\n",
       "      <td>0</td>\n",
       "      <td>0</td>\n",
       "      <td>0</td>\n",
       "      <td>0</td>\n",
       "      <td>0</td>\n",
       "      <td>0</td>\n",
       "      <td>1</td>\n",
       "    </tr>\n",
       "    <tr>\n",
       "      <th>3</th>\n",
       "      <td>0</td>\n",
       "      <td>0</td>\n",
       "      <td>0</td>\n",
       "      <td>0</td>\n",
       "      <td>0</td>\n",
       "      <td>0</td>\n",
       "      <td>0</td>\n",
       "      <td>0</td>\n",
       "      <td>0</td>\n",
       "      <td>0</td>\n",
       "      <td>...</td>\n",
       "      <td>0</td>\n",
       "      <td>0</td>\n",
       "      <td>0</td>\n",
       "      <td>0</td>\n",
       "      <td>0</td>\n",
       "      <td>0</td>\n",
       "      <td>0</td>\n",
       "      <td>0</td>\n",
       "      <td>0</td>\n",
       "      <td>1</td>\n",
       "    </tr>\n",
       "    <tr>\n",
       "      <th>5</th>\n",
       "      <td>0</td>\n",
       "      <td>0</td>\n",
       "      <td>0</td>\n",
       "      <td>0</td>\n",
       "      <td>0</td>\n",
       "      <td>0</td>\n",
       "      <td>0</td>\n",
       "      <td>0</td>\n",
       "      <td>0</td>\n",
       "      <td>0</td>\n",
       "      <td>...</td>\n",
       "      <td>0</td>\n",
       "      <td>0</td>\n",
       "      <td>0</td>\n",
       "      <td>0</td>\n",
       "      <td>0</td>\n",
       "      <td>0</td>\n",
       "      <td>0</td>\n",
       "      <td>0</td>\n",
       "      <td>0</td>\n",
       "      <td>1</td>\n",
       "    </tr>\n",
       "    <tr>\n",
       "      <th>...</th>\n",
       "      <td>...</td>\n",
       "      <td>...</td>\n",
       "      <td>...</td>\n",
       "      <td>...</td>\n",
       "      <td>...</td>\n",
       "      <td>...</td>\n",
       "      <td>...</td>\n",
       "      <td>...</td>\n",
       "      <td>...</td>\n",
       "      <td>...</td>\n",
       "      <td>...</td>\n",
       "      <td>...</td>\n",
       "      <td>...</td>\n",
       "      <td>...</td>\n",
       "      <td>...</td>\n",
       "      <td>...</td>\n",
       "      <td>...</td>\n",
       "      <td>...</td>\n",
       "      <td>...</td>\n",
       "      <td>...</td>\n",
       "      <td>...</td>\n",
       "    </tr>\n",
       "    <tr>\n",
       "      <th>378654</th>\n",
       "      <td>0</td>\n",
       "      <td>0</td>\n",
       "      <td>0</td>\n",
       "      <td>0</td>\n",
       "      <td>0</td>\n",
       "      <td>0</td>\n",
       "      <td>0</td>\n",
       "      <td>0</td>\n",
       "      <td>0</td>\n",
       "      <td>0</td>\n",
       "      <td>...</td>\n",
       "      <td>0</td>\n",
       "      <td>0</td>\n",
       "      <td>0</td>\n",
       "      <td>0</td>\n",
       "      <td>0</td>\n",
       "      <td>0</td>\n",
       "      <td>0</td>\n",
       "      <td>0</td>\n",
       "      <td>0</td>\n",
       "      <td>1</td>\n",
       "    </tr>\n",
       "    <tr>\n",
       "      <th>378657</th>\n",
       "      <td>0</td>\n",
       "      <td>0</td>\n",
       "      <td>0</td>\n",
       "      <td>0</td>\n",
       "      <td>0</td>\n",
       "      <td>0</td>\n",
       "      <td>0</td>\n",
       "      <td>0</td>\n",
       "      <td>0</td>\n",
       "      <td>0</td>\n",
       "      <td>...</td>\n",
       "      <td>0</td>\n",
       "      <td>0</td>\n",
       "      <td>0</td>\n",
       "      <td>0</td>\n",
       "      <td>0</td>\n",
       "      <td>0</td>\n",
       "      <td>0</td>\n",
       "      <td>0</td>\n",
       "      <td>0</td>\n",
       "      <td>1</td>\n",
       "    </tr>\n",
       "    <tr>\n",
       "      <th>378658</th>\n",
       "      <td>0</td>\n",
       "      <td>0</td>\n",
       "      <td>0</td>\n",
       "      <td>0</td>\n",
       "      <td>0</td>\n",
       "      <td>0</td>\n",
       "      <td>0</td>\n",
       "      <td>0</td>\n",
       "      <td>0</td>\n",
       "      <td>0</td>\n",
       "      <td>...</td>\n",
       "      <td>0</td>\n",
       "      <td>0</td>\n",
       "      <td>0</td>\n",
       "      <td>0</td>\n",
       "      <td>0</td>\n",
       "      <td>0</td>\n",
       "      <td>0</td>\n",
       "      <td>0</td>\n",
       "      <td>0</td>\n",
       "      <td>1</td>\n",
       "    </tr>\n",
       "    <tr>\n",
       "      <th>378659</th>\n",
       "      <td>0</td>\n",
       "      <td>0</td>\n",
       "      <td>0</td>\n",
       "      <td>0</td>\n",
       "      <td>0</td>\n",
       "      <td>0</td>\n",
       "      <td>0</td>\n",
       "      <td>0</td>\n",
       "      <td>0</td>\n",
       "      <td>0</td>\n",
       "      <td>...</td>\n",
       "      <td>0</td>\n",
       "      <td>0</td>\n",
       "      <td>0</td>\n",
       "      <td>0</td>\n",
       "      <td>0</td>\n",
       "      <td>0</td>\n",
       "      <td>0</td>\n",
       "      <td>0</td>\n",
       "      <td>0</td>\n",
       "      <td>1</td>\n",
       "    </tr>\n",
       "    <tr>\n",
       "      <th>378660</th>\n",
       "      <td>0</td>\n",
       "      <td>0</td>\n",
       "      <td>0</td>\n",
       "      <td>0</td>\n",
       "      <td>0</td>\n",
       "      <td>0</td>\n",
       "      <td>0</td>\n",
       "      <td>0</td>\n",
       "      <td>0</td>\n",
       "      <td>0</td>\n",
       "      <td>...</td>\n",
       "      <td>0</td>\n",
       "      <td>0</td>\n",
       "      <td>0</td>\n",
       "      <td>0</td>\n",
       "      <td>0</td>\n",
       "      <td>0</td>\n",
       "      <td>0</td>\n",
       "      <td>0</td>\n",
       "      <td>0</td>\n",
       "      <td>1</td>\n",
       "    </tr>\n",
       "  </tbody>\n",
       "</table>\n",
       "<p>322269 rows × 21 columns</p>\n",
       "</div>"
      ],
      "text/plain": [
       "        AU  BE  CA  CH  DE  DK  ES  FR  GB  HK  ...  IT  JP  LU  MX  NL  NO  \\\n",
       "0        0   0   0   0   0   0   0   0   1   0  ...   0   0   0   0   0   0   \n",
       "1        0   0   0   0   0   0   0   0   0   0  ...   0   0   0   0   0   0   \n",
       "2        0   0   0   0   0   0   0   0   0   0  ...   0   0   0   0   0   0   \n",
       "3        0   0   0   0   0   0   0   0   0   0  ...   0   0   0   0   0   0   \n",
       "5        0   0   0   0   0   0   0   0   0   0  ...   0   0   0   0   0   0   \n",
       "...     ..  ..  ..  ..  ..  ..  ..  ..  ..  ..  ...  ..  ..  ..  ..  ..  ..   \n",
       "378654   0   0   0   0   0   0   0   0   0   0  ...   0   0   0   0   0   0   \n",
       "378657   0   0   0   0   0   0   0   0   0   0  ...   0   0   0   0   0   0   \n",
       "378658   0   0   0   0   0   0   0   0   0   0  ...   0   0   0   0   0   0   \n",
       "378659   0   0   0   0   0   0   0   0   0   0  ...   0   0   0   0   0   0   \n",
       "378660   0   0   0   0   0   0   0   0   0   0  ...   0   0   0   0   0   0   \n",
       "\n",
       "        NZ  SE  SG  US  \n",
       "0        0   0   0   0  \n",
       "1        0   0   0   1  \n",
       "2        0   0   0   1  \n",
       "3        0   0   0   1  \n",
       "5        0   0   0   1  \n",
       "...     ..  ..  ..  ..  \n",
       "378654   0   0   0   1  \n",
       "378657   0   0   0   1  \n",
       "378658   0   0   0   1  \n",
       "378659   0   0   0   1  \n",
       "378660   0   0   0   1  \n",
       "\n",
       "[322269 rows x 21 columns]"
      ]
     },
     "execution_count": 122,
     "metadata": {},
     "output_type": "execute_result"
    }
   ],
   "source": [
    "# country dummies\n",
    "country_dummies=pd.get_dummies(data['country'], drop_first=True)\n",
    "country_dummies"
   ]
  },
  {
   "cell_type": "code",
   "execution_count": 123,
   "metadata": {},
   "outputs": [
    {
     "data": {
      "text/html": [
       "<div>\n",
       "<style scoped>\n",
       "    .dataframe tbody tr th:only-of-type {\n",
       "        vertical-align: middle;\n",
       "    }\n",
       "\n",
       "    .dataframe tbody tr th {\n",
       "        vertical-align: top;\n",
       "    }\n",
       "\n",
       "    .dataframe thead th {\n",
       "        text-align: right;\n",
       "    }\n",
       "</style>\n",
       "<table border=\"1\" class=\"dataframe\">\n",
       "  <thead>\n",
       "    <tr style=\"text-align: right;\">\n",
       "      <th></th>\n",
       "      <th>Art</th>\n",
       "      <th>Comics</th>\n",
       "      <th>Crafts</th>\n",
       "      <th>Dance</th>\n",
       "      <th>Design</th>\n",
       "      <th>Fashion</th>\n",
       "      <th>Film &amp; Video</th>\n",
       "      <th>Food</th>\n",
       "      <th>Games</th>\n",
       "      <th>Music</th>\n",
       "      <th>Photography</th>\n",
       "      <th>Publishing</th>\n",
       "      <th>Technology</th>\n",
       "      <th>Theater</th>\n",
       "    </tr>\n",
       "  </thead>\n",
       "  <tbody>\n",
       "    <tr>\n",
       "      <th>0</th>\n",
       "      <td>0</td>\n",
       "      <td>0</td>\n",
       "      <td>0</td>\n",
       "      <td>0</td>\n",
       "      <td>0</td>\n",
       "      <td>0</td>\n",
       "      <td>0</td>\n",
       "      <td>0</td>\n",
       "      <td>0</td>\n",
       "      <td>0</td>\n",
       "      <td>0</td>\n",
       "      <td>1</td>\n",
       "      <td>0</td>\n",
       "      <td>0</td>\n",
       "    </tr>\n",
       "    <tr>\n",
       "      <th>1</th>\n",
       "      <td>0</td>\n",
       "      <td>0</td>\n",
       "      <td>0</td>\n",
       "      <td>0</td>\n",
       "      <td>0</td>\n",
       "      <td>0</td>\n",
       "      <td>1</td>\n",
       "      <td>0</td>\n",
       "      <td>0</td>\n",
       "      <td>0</td>\n",
       "      <td>0</td>\n",
       "      <td>0</td>\n",
       "      <td>0</td>\n",
       "      <td>0</td>\n",
       "    </tr>\n",
       "    <tr>\n",
       "      <th>2</th>\n",
       "      <td>0</td>\n",
       "      <td>0</td>\n",
       "      <td>0</td>\n",
       "      <td>0</td>\n",
       "      <td>0</td>\n",
       "      <td>0</td>\n",
       "      <td>1</td>\n",
       "      <td>0</td>\n",
       "      <td>0</td>\n",
       "      <td>0</td>\n",
       "      <td>0</td>\n",
       "      <td>0</td>\n",
       "      <td>0</td>\n",
       "      <td>0</td>\n",
       "    </tr>\n",
       "    <tr>\n",
       "      <th>3</th>\n",
       "      <td>0</td>\n",
       "      <td>0</td>\n",
       "      <td>0</td>\n",
       "      <td>0</td>\n",
       "      <td>0</td>\n",
       "      <td>0</td>\n",
       "      <td>0</td>\n",
       "      <td>0</td>\n",
       "      <td>0</td>\n",
       "      <td>1</td>\n",
       "      <td>0</td>\n",
       "      <td>0</td>\n",
       "      <td>0</td>\n",
       "      <td>0</td>\n",
       "    </tr>\n",
       "    <tr>\n",
       "      <th>5</th>\n",
       "      <td>0</td>\n",
       "      <td>0</td>\n",
       "      <td>0</td>\n",
       "      <td>0</td>\n",
       "      <td>0</td>\n",
       "      <td>0</td>\n",
       "      <td>0</td>\n",
       "      <td>1</td>\n",
       "      <td>0</td>\n",
       "      <td>0</td>\n",
       "      <td>0</td>\n",
       "      <td>0</td>\n",
       "      <td>0</td>\n",
       "      <td>0</td>\n",
       "    </tr>\n",
       "    <tr>\n",
       "      <th>...</th>\n",
       "      <td>...</td>\n",
       "      <td>...</td>\n",
       "      <td>...</td>\n",
       "      <td>...</td>\n",
       "      <td>...</td>\n",
       "      <td>...</td>\n",
       "      <td>...</td>\n",
       "      <td>...</td>\n",
       "      <td>...</td>\n",
       "      <td>...</td>\n",
       "      <td>...</td>\n",
       "      <td>...</td>\n",
       "      <td>...</td>\n",
       "      <td>...</td>\n",
       "    </tr>\n",
       "    <tr>\n",
       "      <th>378654</th>\n",
       "      <td>0</td>\n",
       "      <td>0</td>\n",
       "      <td>0</td>\n",
       "      <td>0</td>\n",
       "      <td>0</td>\n",
       "      <td>0</td>\n",
       "      <td>0</td>\n",
       "      <td>1</td>\n",
       "      <td>0</td>\n",
       "      <td>0</td>\n",
       "      <td>0</td>\n",
       "      <td>0</td>\n",
       "      <td>0</td>\n",
       "      <td>0</td>\n",
       "    </tr>\n",
       "    <tr>\n",
       "      <th>378657</th>\n",
       "      <td>0</td>\n",
       "      <td>0</td>\n",
       "      <td>0</td>\n",
       "      <td>0</td>\n",
       "      <td>0</td>\n",
       "      <td>0</td>\n",
       "      <td>1</td>\n",
       "      <td>0</td>\n",
       "      <td>0</td>\n",
       "      <td>0</td>\n",
       "      <td>0</td>\n",
       "      <td>0</td>\n",
       "      <td>0</td>\n",
       "      <td>0</td>\n",
       "    </tr>\n",
       "    <tr>\n",
       "      <th>378658</th>\n",
       "      <td>0</td>\n",
       "      <td>0</td>\n",
       "      <td>0</td>\n",
       "      <td>0</td>\n",
       "      <td>0</td>\n",
       "      <td>0</td>\n",
       "      <td>1</td>\n",
       "      <td>0</td>\n",
       "      <td>0</td>\n",
       "      <td>0</td>\n",
       "      <td>0</td>\n",
       "      <td>0</td>\n",
       "      <td>0</td>\n",
       "      <td>0</td>\n",
       "    </tr>\n",
       "    <tr>\n",
       "      <th>378659</th>\n",
       "      <td>0</td>\n",
       "      <td>0</td>\n",
       "      <td>0</td>\n",
       "      <td>0</td>\n",
       "      <td>0</td>\n",
       "      <td>0</td>\n",
       "      <td>0</td>\n",
       "      <td>0</td>\n",
       "      <td>0</td>\n",
       "      <td>0</td>\n",
       "      <td>0</td>\n",
       "      <td>0</td>\n",
       "      <td>1</td>\n",
       "      <td>0</td>\n",
       "    </tr>\n",
       "    <tr>\n",
       "      <th>378660</th>\n",
       "      <td>1</td>\n",
       "      <td>0</td>\n",
       "      <td>0</td>\n",
       "      <td>0</td>\n",
       "      <td>0</td>\n",
       "      <td>0</td>\n",
       "      <td>0</td>\n",
       "      <td>0</td>\n",
       "      <td>0</td>\n",
       "      <td>0</td>\n",
       "      <td>0</td>\n",
       "      <td>0</td>\n",
       "      <td>0</td>\n",
       "      <td>0</td>\n",
       "    </tr>\n",
       "  </tbody>\n",
       "</table>\n",
       "<p>322269 rows × 14 columns</p>\n",
       "</div>"
      ],
      "text/plain": [
       "        Art  Comics  Crafts  Dance  Design  Fashion  Film & Video  Food  \\\n",
       "0         0       0       0      0       0        0             0     0   \n",
       "1         0       0       0      0       0        0             1     0   \n",
       "2         0       0       0      0       0        0             1     0   \n",
       "3         0       0       0      0       0        0             0     0   \n",
       "5         0       0       0      0       0        0             0     1   \n",
       "...     ...     ...     ...    ...     ...      ...           ...   ...   \n",
       "378654    0       0       0      0       0        0             0     1   \n",
       "378657    0       0       0      0       0        0             1     0   \n",
       "378658    0       0       0      0       0        0             1     0   \n",
       "378659    0       0       0      0       0        0             0     0   \n",
       "378660    1       0       0      0       0        0             0     0   \n",
       "\n",
       "        Games  Music  Photography  Publishing  Technology  Theater  \n",
       "0           0      0            0           1           0        0  \n",
       "1           0      0            0           0           0        0  \n",
       "2           0      0            0           0           0        0  \n",
       "3           0      1            0           0           0        0  \n",
       "5           0      0            0           0           0        0  \n",
       "...       ...    ...          ...         ...         ...      ...  \n",
       "378654      0      0            0           0           0        0  \n",
       "378657      0      0            0           0           0        0  \n",
       "378658      0      0            0           0           0        0  \n",
       "378659      0      0            0           0           1        0  \n",
       "378660      0      0            0           0           0        0  \n",
       "\n",
       "[322269 rows x 14 columns]"
      ]
     },
     "execution_count": 123,
     "metadata": {},
     "output_type": "execute_result"
    }
   ],
   "source": [
    "# category dummies\n",
    "category_dummies=pd.get_dummies(data['main_category']).drop('Journalism', axis=1)\n",
    "category_dummies"
   ]
  },
  {
   "cell_type": "code",
   "execution_count": 124,
   "metadata": {},
   "outputs": [],
   "source": [
    "# merge to original dataframe and drop 'main_category' and 'country'\n",
    "data=data.drop(['main_category', 'country'], axis=1)"
   ]
  },
  {
   "cell_type": "code",
   "execution_count": 125,
   "metadata": {},
   "outputs": [
    {
     "data": {
      "text/html": [
       "<div>\n",
       "<style scoped>\n",
       "    .dataframe tbody tr th:only-of-type {\n",
       "        vertical-align: middle;\n",
       "    }\n",
       "\n",
       "    .dataframe tbody tr th {\n",
       "        vertical-align: top;\n",
       "    }\n",
       "\n",
       "    .dataframe thead th {\n",
       "        text-align: right;\n",
       "    }\n",
       "</style>\n",
       "<table border=\"1\" class=\"dataframe\">\n",
       "  <thead>\n",
       "    <tr style=\"text-align: right;\">\n",
       "      <th></th>\n",
       "      <th>backers</th>\n",
       "      <th>usd_pledged_real</th>\n",
       "      <th>usd_goal_real</th>\n",
       "      <th>successful</th>\n",
       "      <th>campaign_duration</th>\n",
       "      <th>Art</th>\n",
       "      <th>Comics</th>\n",
       "      <th>Crafts</th>\n",
       "      <th>Dance</th>\n",
       "      <th>Design</th>\n",
       "      <th>...</th>\n",
       "      <th>IT</th>\n",
       "      <th>JP</th>\n",
       "      <th>LU</th>\n",
       "      <th>MX</th>\n",
       "      <th>NL</th>\n",
       "      <th>NO</th>\n",
       "      <th>NZ</th>\n",
       "      <th>SE</th>\n",
       "      <th>SG</th>\n",
       "      <th>US</th>\n",
       "    </tr>\n",
       "  </thead>\n",
       "  <tbody>\n",
       "    <tr>\n",
       "      <th>0</th>\n",
       "      <td>0</td>\n",
       "      <td>0.0</td>\n",
       "      <td>1533.95</td>\n",
       "      <td>0</td>\n",
       "      <td>59</td>\n",
       "      <td>0</td>\n",
       "      <td>0</td>\n",
       "      <td>0</td>\n",
       "      <td>0</td>\n",
       "      <td>0</td>\n",
       "      <td>...</td>\n",
       "      <td>0</td>\n",
       "      <td>0</td>\n",
       "      <td>0</td>\n",
       "      <td>0</td>\n",
       "      <td>0</td>\n",
       "      <td>0</td>\n",
       "      <td>0</td>\n",
       "      <td>0</td>\n",
       "      <td>0</td>\n",
       "      <td>0</td>\n",
       "    </tr>\n",
       "    <tr>\n",
       "      <th>1</th>\n",
       "      <td>15</td>\n",
       "      <td>2421.0</td>\n",
       "      <td>30000.00</td>\n",
       "      <td>0</td>\n",
       "      <td>60</td>\n",
       "      <td>0</td>\n",
       "      <td>0</td>\n",
       "      <td>0</td>\n",
       "      <td>0</td>\n",
       "      <td>0</td>\n",
       "      <td>...</td>\n",
       "      <td>0</td>\n",
       "      <td>0</td>\n",
       "      <td>0</td>\n",
       "      <td>0</td>\n",
       "      <td>0</td>\n",
       "      <td>0</td>\n",
       "      <td>0</td>\n",
       "      <td>0</td>\n",
       "      <td>0</td>\n",
       "      <td>1</td>\n",
       "    </tr>\n",
       "    <tr>\n",
       "      <th>2</th>\n",
       "      <td>3</td>\n",
       "      <td>220.0</td>\n",
       "      <td>45000.00</td>\n",
       "      <td>0</td>\n",
       "      <td>45</td>\n",
       "      <td>0</td>\n",
       "      <td>0</td>\n",
       "      <td>0</td>\n",
       "      <td>0</td>\n",
       "      <td>0</td>\n",
       "      <td>...</td>\n",
       "      <td>0</td>\n",
       "      <td>0</td>\n",
       "      <td>0</td>\n",
       "      <td>0</td>\n",
       "      <td>0</td>\n",
       "      <td>0</td>\n",
       "      <td>0</td>\n",
       "      <td>0</td>\n",
       "      <td>0</td>\n",
       "      <td>1</td>\n",
       "    </tr>\n",
       "    <tr>\n",
       "      <th>3</th>\n",
       "      <td>1</td>\n",
       "      <td>1.0</td>\n",
       "      <td>5000.00</td>\n",
       "      <td>0</td>\n",
       "      <td>30</td>\n",
       "      <td>0</td>\n",
       "      <td>0</td>\n",
       "      <td>0</td>\n",
       "      <td>0</td>\n",
       "      <td>0</td>\n",
       "      <td>...</td>\n",
       "      <td>0</td>\n",
       "      <td>0</td>\n",
       "      <td>0</td>\n",
       "      <td>0</td>\n",
       "      <td>0</td>\n",
       "      <td>0</td>\n",
       "      <td>0</td>\n",
       "      <td>0</td>\n",
       "      <td>0</td>\n",
       "      <td>1</td>\n",
       "    </tr>\n",
       "    <tr>\n",
       "      <th>5</th>\n",
       "      <td>224</td>\n",
       "      <td>52375.0</td>\n",
       "      <td>50000.00</td>\n",
       "      <td>1</td>\n",
       "      <td>35</td>\n",
       "      <td>0</td>\n",
       "      <td>0</td>\n",
       "      <td>0</td>\n",
       "      <td>0</td>\n",
       "      <td>0</td>\n",
       "      <td>...</td>\n",
       "      <td>0</td>\n",
       "      <td>0</td>\n",
       "      <td>0</td>\n",
       "      <td>0</td>\n",
       "      <td>0</td>\n",
       "      <td>0</td>\n",
       "      <td>0</td>\n",
       "      <td>0</td>\n",
       "      <td>0</td>\n",
       "      <td>1</td>\n",
       "    </tr>\n",
       "  </tbody>\n",
       "</table>\n",
       "<p>5 rows × 40 columns</p>\n",
       "</div>"
      ],
      "text/plain": [
       "   backers  usd_pledged_real  usd_goal_real  successful  campaign_duration  \\\n",
       "0        0               0.0        1533.95           0                 59   \n",
       "1       15            2421.0       30000.00           0                 60   \n",
       "2        3             220.0       45000.00           0                 45   \n",
       "3        1               1.0        5000.00           0                 30   \n",
       "5      224           52375.0       50000.00           1                 35   \n",
       "\n",
       "   Art  Comics  Crafts  Dance  Design  ...  IT  JP  LU  MX  NL  NO  NZ  SE  \\\n",
       "0    0       0       0      0       0  ...   0   0   0   0   0   0   0   0   \n",
       "1    0       0       0      0       0  ...   0   0   0   0   0   0   0   0   \n",
       "2    0       0       0      0       0  ...   0   0   0   0   0   0   0   0   \n",
       "3    0       0       0      0       0  ...   0   0   0   0   0   0   0   0   \n",
       "5    0       0       0      0       0  ...   0   0   0   0   0   0   0   0   \n",
       "\n",
       "   SG  US  \n",
       "0   0   0  \n",
       "1   0   1  \n",
       "2   0   1  \n",
       "3   0   1  \n",
       "5   0   1  \n",
       "\n",
       "[5 rows x 40 columns]"
      ]
     },
     "execution_count": 125,
     "metadata": {},
     "output_type": "execute_result"
    }
   ],
   "source": [
    "merged=pd.concat([data, category_dummies, country_dummies], axis=1)\n",
    "merged.head()"
   ]
  },
  {
   "cell_type": "code",
   "execution_count": 126,
   "metadata": {},
   "outputs": [],
   "source": [
    "data_clean=merged.copy()"
   ]
  },
  {
   "cell_type": "code",
   "execution_count": 127,
   "metadata": {},
   "outputs": [
    {
     "data": {
      "text/plain": [
       "(322269, 40)"
      ]
     },
     "execution_count": 127,
     "metadata": {},
     "output_type": "execute_result"
    }
   ],
   "source": [
    "data_clean.shape"
   ]
  },
  {
   "cell_type": "markdown",
   "metadata": {},
   "source": [
    "### Scaling the data"
   ]
  },
  {
   "cell_type": "code",
   "execution_count": 128,
   "metadata": {},
   "outputs": [],
   "source": [
    "# min-max scaling\n",
    "from sklearn.preprocessing import MinMaxScaler, RobustScaler\n",
    "\n",
    "scaler=MinMaxScaler()"
   ]
  },
  {
   "cell_type": "code",
   "execution_count": 129,
   "metadata": {},
   "outputs": [],
   "source": [
    "data_scaled_array=scaler.fit_transform(data_clean)"
   ]
  },
  {
   "cell_type": "code",
   "execution_count": 130,
   "metadata": {},
   "outputs": [
    {
     "data": {
      "text/html": [
       "<div>\n",
       "<style scoped>\n",
       "    .dataframe tbody tr th:only-of-type {\n",
       "        vertical-align: middle;\n",
       "    }\n",
       "\n",
       "    .dataframe tbody tr th {\n",
       "        vertical-align: top;\n",
       "    }\n",
       "\n",
       "    .dataframe thead th {\n",
       "        text-align: right;\n",
       "    }\n",
       "</style>\n",
       "<table border=\"1\" class=\"dataframe\">\n",
       "  <thead>\n",
       "    <tr style=\"text-align: right;\">\n",
       "      <th></th>\n",
       "      <th>backers</th>\n",
       "      <th>usd_pledged_real</th>\n",
       "      <th>usd_goal_real</th>\n",
       "      <th>successful</th>\n",
       "      <th>campaign_duration</th>\n",
       "      <th>Art</th>\n",
       "      <th>Comics</th>\n",
       "      <th>Crafts</th>\n",
       "      <th>Dance</th>\n",
       "      <th>Design</th>\n",
       "      <th>...</th>\n",
       "      <th>IT</th>\n",
       "      <th>JP</th>\n",
       "      <th>LU</th>\n",
       "      <th>MX</th>\n",
       "      <th>NL</th>\n",
       "      <th>NO</th>\n",
       "      <th>NZ</th>\n",
       "      <th>SE</th>\n",
       "      <th>SG</th>\n",
       "      <th>US</th>\n",
       "    </tr>\n",
       "  </thead>\n",
       "  <tbody>\n",
       "    <tr>\n",
       "      <th>0</th>\n",
       "      <td>0.000000</td>\n",
       "      <td>0.000000</td>\n",
       "      <td>0.010227</td>\n",
       "      <td>0.0</td>\n",
       "      <td>0.637363</td>\n",
       "      <td>0.0</td>\n",
       "      <td>0.0</td>\n",
       "      <td>0.0</td>\n",
       "      <td>0.0</td>\n",
       "      <td>0.0</td>\n",
       "      <td>...</td>\n",
       "      <td>0.0</td>\n",
       "      <td>0.0</td>\n",
       "      <td>0.0</td>\n",
       "      <td>0.0</td>\n",
       "      <td>0.0</td>\n",
       "      <td>0.0</td>\n",
       "      <td>0.0</td>\n",
       "      <td>0.0</td>\n",
       "      <td>0.0</td>\n",
       "      <td>0.0</td>\n",
       "    </tr>\n",
       "    <tr>\n",
       "      <th>1</th>\n",
       "      <td>0.001277</td>\n",
       "      <td>0.012415</td>\n",
       "      <td>0.200007</td>\n",
       "      <td>0.0</td>\n",
       "      <td>0.648352</td>\n",
       "      <td>0.0</td>\n",
       "      <td>0.0</td>\n",
       "      <td>0.0</td>\n",
       "      <td>0.0</td>\n",
       "      <td>0.0</td>\n",
       "      <td>...</td>\n",
       "      <td>0.0</td>\n",
       "      <td>0.0</td>\n",
       "      <td>0.0</td>\n",
       "      <td>0.0</td>\n",
       "      <td>0.0</td>\n",
       "      <td>0.0</td>\n",
       "      <td>0.0</td>\n",
       "      <td>0.0</td>\n",
       "      <td>0.0</td>\n",
       "      <td>1.0</td>\n",
       "    </tr>\n",
       "    <tr>\n",
       "      <th>2</th>\n",
       "      <td>0.000255</td>\n",
       "      <td>0.001128</td>\n",
       "      <td>0.300010</td>\n",
       "      <td>0.0</td>\n",
       "      <td>0.483516</td>\n",
       "      <td>0.0</td>\n",
       "      <td>0.0</td>\n",
       "      <td>0.0</td>\n",
       "      <td>0.0</td>\n",
       "      <td>0.0</td>\n",
       "      <td>...</td>\n",
       "      <td>0.0</td>\n",
       "      <td>0.0</td>\n",
       "      <td>0.0</td>\n",
       "      <td>0.0</td>\n",
       "      <td>0.0</td>\n",
       "      <td>0.0</td>\n",
       "      <td>0.0</td>\n",
       "      <td>0.0</td>\n",
       "      <td>0.0</td>\n",
       "      <td>1.0</td>\n",
       "    </tr>\n",
       "    <tr>\n",
       "      <th>3</th>\n",
       "      <td>0.000085</td>\n",
       "      <td>0.000005</td>\n",
       "      <td>0.033334</td>\n",
       "      <td>0.0</td>\n",
       "      <td>0.318681</td>\n",
       "      <td>0.0</td>\n",
       "      <td>0.0</td>\n",
       "      <td>0.0</td>\n",
       "      <td>0.0</td>\n",
       "      <td>0.0</td>\n",
       "      <td>...</td>\n",
       "      <td>0.0</td>\n",
       "      <td>0.0</td>\n",
       "      <td>0.0</td>\n",
       "      <td>0.0</td>\n",
       "      <td>0.0</td>\n",
       "      <td>0.0</td>\n",
       "      <td>0.0</td>\n",
       "      <td>0.0</td>\n",
       "      <td>0.0</td>\n",
       "      <td>1.0</td>\n",
       "    </tr>\n",
       "    <tr>\n",
       "      <th>4</th>\n",
       "      <td>0.019065</td>\n",
       "      <td>0.268592</td>\n",
       "      <td>0.333344</td>\n",
       "      <td>1.0</td>\n",
       "      <td>0.373626</td>\n",
       "      <td>0.0</td>\n",
       "      <td>0.0</td>\n",
       "      <td>0.0</td>\n",
       "      <td>0.0</td>\n",
       "      <td>0.0</td>\n",
       "      <td>...</td>\n",
       "      <td>0.0</td>\n",
       "      <td>0.0</td>\n",
       "      <td>0.0</td>\n",
       "      <td>0.0</td>\n",
       "      <td>0.0</td>\n",
       "      <td>0.0</td>\n",
       "      <td>0.0</td>\n",
       "      <td>0.0</td>\n",
       "      <td>0.0</td>\n",
       "      <td>1.0</td>\n",
       "    </tr>\n",
       "  </tbody>\n",
       "</table>\n",
       "<p>5 rows × 40 columns</p>\n",
       "</div>"
      ],
      "text/plain": [
       "    backers  usd_pledged_real  usd_goal_real  successful  campaign_duration  \\\n",
       "0  0.000000          0.000000       0.010227         0.0           0.637363   \n",
       "1  0.001277          0.012415       0.200007         0.0           0.648352   \n",
       "2  0.000255          0.001128       0.300010         0.0           0.483516   \n",
       "3  0.000085          0.000005       0.033334         0.0           0.318681   \n",
       "4  0.019065          0.268592       0.333344         1.0           0.373626   \n",
       "\n",
       "   Art  Comics  Crafts  Dance  Design  ...   IT   JP   LU   MX   NL   NO   NZ  \\\n",
       "0  0.0     0.0     0.0    0.0     0.0  ...  0.0  0.0  0.0  0.0  0.0  0.0  0.0   \n",
       "1  0.0     0.0     0.0    0.0     0.0  ...  0.0  0.0  0.0  0.0  0.0  0.0  0.0   \n",
       "2  0.0     0.0     0.0    0.0     0.0  ...  0.0  0.0  0.0  0.0  0.0  0.0  0.0   \n",
       "3  0.0     0.0     0.0    0.0     0.0  ...  0.0  0.0  0.0  0.0  0.0  0.0  0.0   \n",
       "4  0.0     0.0     0.0    0.0     0.0  ...  0.0  0.0  0.0  0.0  0.0  0.0  0.0   \n",
       "\n",
       "    SE   SG   US  \n",
       "0  0.0  0.0  0.0  \n",
       "1  0.0  0.0  1.0  \n",
       "2  0.0  0.0  1.0  \n",
       "3  0.0  0.0  1.0  \n",
       "4  0.0  0.0  1.0  \n",
       "\n",
       "[5 rows x 40 columns]"
      ]
     },
     "execution_count": 130,
     "metadata": {},
     "output_type": "execute_result"
    }
   ],
   "source": [
    "data_scaled=pd.DataFrame(data_scaled_array, columns=data_clean.columns)\n",
    "data_scaled.head()"
   ]
  },
  {
   "cell_type": "markdown",
   "metadata": {},
   "source": [
    "### Building predictive models"
   ]
  },
  {
   "cell_type": "markdown",
   "metadata": {},
   "source": [
    "#### Selection of an error metric\n",
    "\n",
    "Scikit-learn has a handy function we can use to calculate accuracy: metrics.accuracy_score(). The function accepts two parameters, the actual values and our predicted values, and returns our accuracy score.\n",
    "\n",
    "To give us a better understanding of the real performance of our model, we can use a technique called cross validation to train and test our model on different splits of our data, and then average the accuracy scores. The most common form of cross validation, and the one we will be using, is called k-fold cross validation. 'Fold' refers to each different iteration that we train our model on, and 'k' just refers to the number of folds."
   ]
  },
  {
   "cell_type": "code",
   "execution_count": 131,
   "metadata": {},
   "outputs": [],
   "source": [
    "import numpy as np\n",
    "from sklearn.metrics import accuracy_score\n",
    "from sklearn.model_selection import cross_val_score"
   ]
  },
  {
   "cell_type": "markdown",
   "metadata": {},
   "source": [
    "#### Train test split\n",
    "\n",
    "We will split our data into train set and test set. Ratio will be 80:20."
   ]
  },
  {
   "cell_type": "code",
   "execution_count": 132,
   "metadata": {},
   "outputs": [],
   "source": [
    "# splitting the data\n",
    "from sklearn.model_selection import train_test_split\n",
    "\n",
    "X=data_scaled.drop('successful', axis=1)\n",
    "y=data_scaled['successful']\n",
    "\n",
    "train_X, test_X, train_y, test_y=train_test_split(X, y, train_size=0.8, random_state=1)"
   ]
  },
  {
   "cell_type": "markdown",
   "metadata": {},
   "source": [
    "#### K Neighbors classifier model"
   ]
  },
  {
   "cell_type": "code",
   "execution_count": 133,
   "metadata": {},
   "outputs": [],
   "source": [
    "# import KNeighborsClassifier and make an instance \n",
    "from sklearn.neighbors import KNeighborsClassifier\n",
    "\n",
    "knc=KNeighborsClassifier()"
   ]
  },
  {
   "cell_type": "code",
   "execution_count": 134,
   "metadata": {},
   "outputs": [
    {
     "data": {
      "text/plain": [
       "KNeighborsClassifier(algorithm='auto', leaf_size=30, metric='minkowski',\n",
       "                     metric_params=None, n_jobs=None, n_neighbors=5, p=2,\n",
       "                     weights='uniform')"
      ]
     },
     "execution_count": 134,
     "metadata": {},
     "output_type": "execute_result"
    }
   ],
   "source": [
    "# fitting the model\n",
    "knc.fit(train_X, train_y)"
   ]
  },
  {
   "cell_type": "code",
   "execution_count": 135,
   "metadata": {},
   "outputs": [],
   "source": [
    "# predicting values on test set\n",
    "predictions_knc=knc.predict(test_X)"
   ]
  },
  {
   "cell_type": "markdown",
   "metadata": {},
   "source": [
    "##### K Neighbors classifier accuracy"
   ]
  },
  {
   "cell_type": "code",
   "execution_count": 136,
   "metadata": {},
   "outputs": [
    {
     "data": {
      "text/plain": [
       "0.9708939708939709"
      ]
     },
     "execution_count": 136,
     "metadata": {},
     "output_type": "execute_result"
    }
   ],
   "source": [
    "# calculating accuracy with accuracy_score()\n",
    "accuracy_knc=accuracy_score(test_y, predictions_knc)\n",
    "accuracy_knc"
   ]
  },
  {
   "cell_type": "code",
   "execution_count": 137,
   "metadata": {},
   "outputs": [
    {
     "data": {
      "text/plain": [
       "array([0.973004  , 0.97232135, 0.96986998, 0.97374872, 0.97086294,\n",
       "       0.97241444, 0.97263164, 0.97225929, 0.97272473, 0.97235152])"
      ]
     },
     "execution_count": 137,
     "metadata": {},
     "output_type": "execute_result"
    }
   ],
   "source": [
    "# calculating accuracy result with cross_val_score()\n",
    "accuracy_cross_val_knc=cross_val_score(knc, X, y, cv=10)\n",
    "accuracy_cross_val_knc"
   ]
  },
  {
   "cell_type": "code",
   "execution_count": 138,
   "metadata": {},
   "outputs": [
    {
     "data": {
      "text/plain": [
       "0.9722188610528979"
      ]
     },
     "execution_count": 138,
     "metadata": {},
     "output_type": "execute_result"
    }
   ],
   "source": [
    "#calculating cross_val_score mean\n",
    "accuracy_cross_val_knc=np.mean(accuracy_cross_val_knc)\n",
    "accuracy_cross_val_knc"
   ]
  },
  {
   "cell_type": "markdown",
   "metadata": {},
   "source": [
    "#### Logistic Regression model"
   ]
  },
  {
   "cell_type": "code",
   "execution_count": 139,
   "metadata": {},
   "outputs": [],
   "source": [
    "# import LogisticRegression and make an instance \n",
    "from sklearn.linear_model import LogisticRegression\n",
    "\n",
    "lr=LogisticRegression(max_iter=1000)"
   ]
  },
  {
   "cell_type": "code",
   "execution_count": 140,
   "metadata": {},
   "outputs": [
    {
     "data": {
      "text/plain": [
       "LogisticRegression(C=1.0, class_weight=None, dual=False, fit_intercept=True,\n",
       "                   intercept_scaling=1, l1_ratio=None, max_iter=1000,\n",
       "                   multi_class='auto', n_jobs=None, penalty='l2',\n",
       "                   random_state=None, solver='lbfgs', tol=0.0001, verbose=0,\n",
       "                   warm_start=False)"
      ]
     },
     "execution_count": 140,
     "metadata": {},
     "output_type": "execute_result"
    }
   ],
   "source": [
    "# fitting the model\n",
    "lr.fit(train_X, train_y)"
   ]
  },
  {
   "cell_type": "code",
   "execution_count": 141,
   "metadata": {},
   "outputs": [],
   "source": [
    "# predicting values on test set\n",
    "predictions_lr=lr.predict(test_X)"
   ]
  },
  {
   "cell_type": "markdown",
   "metadata": {},
   "source": [
    "##### Logistic Regression accuracy"
   ]
  },
  {
   "cell_type": "code",
   "execution_count": 142,
   "metadata": {},
   "outputs": [
    {
     "data": {
      "text/plain": [
       "0.959149160641698"
      ]
     },
     "execution_count": 142,
     "metadata": {},
     "output_type": "execute_result"
    }
   ],
   "source": [
    "# calculating accuracy with accuracy_score()\n",
    "accuracy_lr=accuracy_score(test_y, predictions_lr)\n",
    "accuracy_lr"
   ]
  },
  {
   "cell_type": "code",
   "execution_count": 143,
   "metadata": {},
   "outputs": [
    {
     "data": {
      "text/plain": [
       "array([0.96139883, 0.96003351, 0.95904056, 0.96121265, 0.95941291,\n",
       "       0.96118162, 0.96124368, 0.96205045, 0.96205045, 0.96139763])"
      ]
     },
     "execution_count": 143,
     "metadata": {},
     "output_type": "execute_result"
    }
   ],
   "source": [
    "# calculating accuracy result with cross_val_score()\n",
    "accuracy_cross_val_lr=cross_val_score(lr, X, y, cv=10)\n",
    "accuracy_cross_val_lr"
   ]
  },
  {
   "cell_type": "code",
   "execution_count": 145,
   "metadata": {},
   "outputs": [
    {
     "data": {
      "text/plain": [
       "0.9609022291793504"
      ]
     },
     "execution_count": 145,
     "metadata": {},
     "output_type": "execute_result"
    }
   ],
   "source": [
    "#calculating cross_val_score mean\n",
    "accuracy_cross_val_lr=np.mean(accuracy_cross_val_lr)\n",
    "accuracy_cross_val_lr"
   ]
  },
  {
   "cell_type": "markdown",
   "metadata": {},
   "source": [
    "#### Random Forests model"
   ]
  },
  {
   "cell_type": "code",
   "execution_count": 146,
   "metadata": {},
   "outputs": [],
   "source": [
    "# import RandomForestClassifier and make an instance \n",
    "from sklearn.ensemble import RandomForestClassifier\n",
    "\n",
    "rfc=RandomForestClassifier(n_estimators=5, random_state=1, min_samples_leaf=2)"
   ]
  },
  {
   "cell_type": "code",
   "execution_count": 147,
   "metadata": {},
   "outputs": [
    {
     "data": {
      "text/plain": [
       "RandomForestClassifier(bootstrap=True, ccp_alpha=0.0, class_weight=None,\n",
       "                       criterion='gini', max_depth=None, max_features='auto',\n",
       "                       max_leaf_nodes=None, max_samples=None,\n",
       "                       min_impurity_decrease=0.0, min_impurity_split=None,\n",
       "                       min_samples_leaf=2, min_samples_split=2,\n",
       "                       min_weight_fraction_leaf=0.0, n_estimators=5,\n",
       "                       n_jobs=None, oob_score=False, random_state=1, verbose=0,\n",
       "                       warm_start=False)"
      ]
     },
     "execution_count": 147,
     "metadata": {},
     "output_type": "execute_result"
    }
   ],
   "source": [
    "# fitting the model\n",
    "rfc.fit(train_X, train_y)"
   ]
  },
  {
   "cell_type": "code",
   "execution_count": 148,
   "metadata": {},
   "outputs": [],
   "source": [
    "# predicting values on test set\n",
    "predictions_rfc=rfc.predict(test_X)"
   ]
  },
  {
   "cell_type": "markdown",
   "metadata": {},
   "source": [
    "##### Random Forests accuracy"
   ]
  },
  {
   "cell_type": "code",
   "execution_count": 149,
   "metadata": {},
   "outputs": [
    {
     "data": {
      "text/plain": [
       "0.9894963850187731"
      ]
     },
     "execution_count": 149,
     "metadata": {},
     "output_type": "execute_result"
    }
   ],
   "source": [
    "# calculating accuracy with accuracy_score()\n",
    "accuracy_rfc=accuracy_score(test_y, predictions_rfc)\n",
    "accuracy_rfc"
   ]
  },
  {
   "cell_type": "code",
   "execution_count": 150,
   "metadata": {},
   "outputs": [
    {
     "data": {
      "text/plain": [
       "array([0.98811556, 0.98997735, 0.99180811, 0.98913954, 0.98895336,\n",
       "       0.99003941, 0.98985323, 0.9898222 , 0.99093927, 0.9891392 ])"
      ]
     },
     "execution_count": 150,
     "metadata": {},
     "output_type": "execute_result"
    }
   ],
   "source": [
    "# calculating accuracy result with cross_val_score()\n",
    "accuracy_cross_val_rfc=cross_val_score(rfc, X, y, cv=10)\n",
    "accuracy_cross_val_rfc"
   ]
  },
  {
   "cell_type": "code",
   "execution_count": 151,
   "metadata": {},
   "outputs": [
    {
     "data": {
      "text/plain": [
       "0.9897787232420157"
      ]
     },
     "execution_count": 151,
     "metadata": {},
     "output_type": "execute_result"
    }
   ],
   "source": [
    "#calculating cross_val_score mean\n",
    "accuracy_cross_val_rfc=np.mean(accuracy_cross_val_rfc)\n",
    "accuracy_cross_val_rfc"
   ]
  },
  {
   "cell_type": "markdown",
   "metadata": {},
   "source": [
    "### Artificial neural networks model"
   ]
  },
  {
   "cell_type": "code",
   "execution_count": 152,
   "metadata": {},
   "outputs": [],
   "source": [
    "# import MLPClassifier and make an instance \n",
    "from sklearn.neural_network import MLPClassifier\n",
    "\n",
    "mlpc=MLPClassifier(hidden_layer_sizes=(10, 10), activation='relu')"
   ]
  },
  {
   "cell_type": "code",
   "execution_count": 153,
   "metadata": {},
   "outputs": [
    {
     "data": {
      "text/plain": [
       "MLPClassifier(activation='relu', alpha=0.0001, batch_size='auto', beta_1=0.9,\n",
       "              beta_2=0.999, early_stopping=False, epsilon=1e-08,\n",
       "              hidden_layer_sizes=(10, 10), learning_rate='constant',\n",
       "              learning_rate_init=0.001, max_fun=15000, max_iter=200,\n",
       "              momentum=0.9, n_iter_no_change=10, nesterovs_momentum=True,\n",
       "              power_t=0.5, random_state=None, shuffle=True, solver='adam',\n",
       "              tol=0.0001, validation_fraction=0.1, verbose=False,\n",
       "              warm_start=False)"
      ]
     },
     "execution_count": 153,
     "metadata": {},
     "output_type": "execute_result"
    }
   ],
   "source": [
    "# fitting the model\n",
    "mlpc.fit(train_X, train_y)"
   ]
  },
  {
   "cell_type": "code",
   "execution_count": 154,
   "metadata": {},
   "outputs": [],
   "source": [
    "# predicting values on test set\n",
    "predictions_mlpc=mlpc.predict(test_X)"
   ]
  },
  {
   "cell_type": "markdown",
   "metadata": {},
   "source": [
    "##### Artificial neural networks accuracy"
   ]
  },
  {
   "cell_type": "code",
   "execution_count": 155,
   "metadata": {},
   "outputs": [
    {
     "data": {
      "text/plain": [
       "0.9965867130046234"
      ]
     },
     "execution_count": 155,
     "metadata": {},
     "output_type": "execute_result"
    }
   ],
   "source": [
    "# calculating accuracy with accuracy_score()\n",
    "accuracy_mlpc=accuracy_score(test_y, predictions_mlpc)\n",
    "accuracy_mlpc"
   ]
  },
  {
   "cell_type": "code",
   "execution_count": 156,
   "metadata": {},
   "outputs": [
    {
     "data": {
      "text/plain": [
       "array([0.99224253, 0.99624538, 0.99413535, 0.99599715, 0.99640053,\n",
       "       0.9939802 , 0.99705216, 0.99550067, 0.99658671, 0.99559362])"
      ]
     },
     "execution_count": 156,
     "metadata": {},
     "output_type": "execute_result"
    }
   ],
   "source": [
    "# calculating accuracy result with cross_val_score()\n",
    "accuracy_cross_val_mlpc=cross_val_score(mlpc, X, y, cv=10)\n",
    "accuracy_cross_val_mlpc"
   ]
  },
  {
   "cell_type": "code",
   "execution_count": 157,
   "metadata": {},
   "outputs": [
    {
     "data": {
      "text/plain": [
       "0.995373430954231"
      ]
     },
     "execution_count": 157,
     "metadata": {},
     "output_type": "execute_result"
    }
   ],
   "source": [
    "#calculating cross_val_score mean\n",
    "accuracy_cross_val_mlpc=np.mean(accuracy_cross_val_mlpc)\n",
    "accuracy_cross_val_mlpc"
   ]
  },
  {
   "cell_type": "markdown",
   "metadata": {},
   "source": [
    "#### Result comparison\n",
    "\n",
    "| MODEL | ACCURACY SCORE | CROSS VALIDATION SCORE |\n",
    "| ----- | -------------- | ---------------------- |\n",
    "| K Nearest neighbors, k=5 | 97,10% | 97,22% | \n",
    "| Logistic regression | 95,91% | 96,10% |\n",
    "| Random Forests | 98,95% | 98,98% |\n",
    "| Artificial Neural Networks | 99,66% | 99,54% |"
   ]
  }
 ],
 "metadata": {
  "kernelspec": {
   "display_name": "Python 3",
   "language": "python",
   "name": "python3"
  },
  "language_info": {
   "codemirror_mode": {
    "name": "ipython",
    "version": 3
   },
   "file_extension": ".py",
   "mimetype": "text/x-python",
   "name": "python",
   "nbconvert_exporter": "python",
   "pygments_lexer": "ipython3",
   "version": "3.7.6"
  }
 },
 "nbformat": 4,
 "nbformat_minor": 4
}
